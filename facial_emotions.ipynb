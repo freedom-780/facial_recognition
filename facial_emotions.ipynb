{
  "cells": [
    {
      "cell_type": "markdown",
      "metadata": {
        "id": "yvjJlz6nPvbP"
      },
      "source": [
        "Introduction \n",
        "\n",
        "train.csv contains two columns, \"emotion\" and \"pixels\". The \"emotion\" column contains a numeric code ranging from 0 to 6, inclusive, for the emotion that is present in the image. The \"pixels\" column contains a string surrounded in quotes for each image. The contents of this string a space-separated pixel values in row major order. test.csv contains only the \"pixels\" column and your task is to predict the emotion column.\n",
        "\n",
        "(0=Angry, 1=Disgust, 2=Fear, 3=Happy, 4=Sad, 5=Surprise, 6=Neutral)\n",
        "\n"
      ]
    },
    {
      "attachments": {},
      "cell_type": "markdown",
      "metadata": {},
      "source": [
        "from doing an intial EDA and model training the models is stuck at around 70 percent for the validation data, while the training data is overfitting, after doing some hyperparameter tuning. According to the confustion metrics of various iterations of model tuning, the model is able to identify the positive emotions, but not the negative emotions so the goal is to make two models and them merge them for better category identification"
      ]
    },
    {
      "attachments": {},
      "cell_type": "markdown",
      "metadata": {},
      "source": [
        "The dataset is unbalanced so a good metric is recall , since if this was used in the healthcare context such as identifying possible depression signs, reducing false negtives those that where predicted to be negative but are actually positive -- like is someone was sad but was identified as happy."
      ]
    },
    {
      "cell_type": "markdown",
      "metadata": {},
      "source": []
    },
    {
      "cell_type": "code",
      "execution_count": null,
      "metadata": {},
      "outputs": [],
      "source": []
    },
    {
      "attachments": {},
      "cell_type": "markdown",
      "metadata": {},
      "source": [
        "## EDA"
      ]
    },
    {
      "cell_type": "code",
      "execution_count": 1,
      "metadata": {
        "id": "PN-MrbxRIcKA"
      },
      "outputs": [],
      "source": [
        "import pandas as pd \n",
        "import numpy as np\n",
        "import matplotlib.pyplot as plt\n",
        "import datetime\n",
        "\n",
        "import tensorflow.keras as keras\n",
        "import tensorflow as tf\n",
        "from tensorflow.keras.optimizers import SGD\n",
        "from tensorflow.keras.optimizers import Adam\n",
        "from tensorflow.keras.preprocessing.image import ImageDataGenerator\n",
        "\n",
        "from sklearn.metrics import confusion_matrix\n",
        "import sklearn.metrics\n",
        "\n",
        "import io\n",
        "import itertools\n",
        "\n",
        "from tensorflow.keras.metrics import Precision, Recall\n",
        "\n",
        "from sklearn.utils import class_weight\n",
        "\n",
        "\n",
        "\n",
        "\n"
      ]
    },
    {
      "cell_type": "code",
      "execution_count": null,
      "metadata": {},
      "outputs": [],
      "source": [
        "\n"
      ]
    },
    {
      "cell_type": "code",
      "execution_count": 2,
      "metadata": {},
      "outputs": [],
      "source": [
        "%load_ext tensorboard"
      ]
    },
    {
      "cell_type": "code",
      "execution_count": 3,
      "metadata": {},
      "outputs": [
        {
          "data": {
            "text/plain": [
              "[PhysicalDevice(name='/physical_device:GPU:0', device_type='GPU')]"
            ]
          },
          "execution_count": 3,
          "metadata": {},
          "output_type": "execute_result"
        }
      ],
      "source": [
        "# check to see if gpu is avalaible\n",
        "tf.config.list_physical_devices('GPU')"
      ]
    },
    {
      "cell_type": "code",
      "execution_count": 4,
      "metadata": {
        "id": "zyfmOajnNy8h"
      },
      "outputs": [],
      "source": [
        "df = pd.read_csv(\"icml_face_data.csv\")\n"
      ]
    },
    {
      "cell_type": "code",
      "execution_count": 5,
      "metadata": {},
      "outputs": [
        {
          "name": "stdout",
          "output_type": "stream",
          "text": [
            "<class 'pandas.core.frame.DataFrame'>\n",
            "RangeIndex: 35887 entries, 0 to 35886\n",
            "Data columns (total 3 columns):\n",
            " #   Column   Non-Null Count  Dtype \n",
            "---  ------   --------------  ----- \n",
            " 0   emotion  35887 non-null  int64 \n",
            " 1    Usage   35887 non-null  object\n",
            " 2    pixels  35887 non-null  object\n",
            "dtypes: int64(1), object(2)\n",
            "memory usage: 841.2+ KB\n"
          ]
        }
      ],
      "source": [
        "df.info()\n"
      ]
    },
    {
      "attachments": {},
      "cell_type": "markdown",
      "metadata": {},
      "source": [
        "the pixels columns is a string and needs to converted to numeric"
      ]
    },
    {
      "cell_type": "code",
      "execution_count": 6,
      "metadata": {
        "colab": {
          "base_uri": "https://localhost:8080/",
          "height": 206
        },
        "id": "bSoTeXduT4gx",
        "outputId": "f74c9ce9-e580-4f9f-ab98-4492092ecede"
      },
      "outputs": [
        {
          "data": {
            "text/html": [
              "<div>\n",
              "<style scoped>\n",
              "    .dataframe tbody tr th:only-of-type {\n",
              "        vertical-align: middle;\n",
              "    }\n",
              "\n",
              "    .dataframe tbody tr th {\n",
              "        vertical-align: top;\n",
              "    }\n",
              "\n",
              "    .dataframe thead th {\n",
              "        text-align: right;\n",
              "    }\n",
              "</style>\n",
              "<table border=\"1\" class=\"dataframe\">\n",
              "  <thead>\n",
              "    <tr style=\"text-align: right;\">\n",
              "      <th></th>\n",
              "      <th>emotion</th>\n",
              "      <th>Usage</th>\n",
              "      <th>pixels</th>\n",
              "    </tr>\n",
              "  </thead>\n",
              "  <tbody>\n",
              "    <tr>\n",
              "      <th>0</th>\n",
              "      <td>0</td>\n",
              "      <td>Training</td>\n",
              "      <td>70 80 82 72 58 58 60 63 54 58 60 48 89 115 121...</td>\n",
              "    </tr>\n",
              "    <tr>\n",
              "      <th>1</th>\n",
              "      <td>0</td>\n",
              "      <td>Training</td>\n",
              "      <td>151 150 147 155 148 133 111 140 170 174 182 15...</td>\n",
              "    </tr>\n",
              "    <tr>\n",
              "      <th>2</th>\n",
              "      <td>2</td>\n",
              "      <td>Training</td>\n",
              "      <td>231 212 156 164 174 138 161 173 182 200 106 38...</td>\n",
              "    </tr>\n",
              "    <tr>\n",
              "      <th>3</th>\n",
              "      <td>4</td>\n",
              "      <td>Training</td>\n",
              "      <td>24 32 36 30 32 23 19 20 30 41 21 22 32 34 21 1...</td>\n",
              "    </tr>\n",
              "    <tr>\n",
              "      <th>4</th>\n",
              "      <td>6</td>\n",
              "      <td>Training</td>\n",
              "      <td>4 0 0 0 0 0 0 0 0 0 0 0 3 15 23 28 48 50 58 84...</td>\n",
              "    </tr>\n",
              "  </tbody>\n",
              "</table>\n",
              "</div>"
            ],
            "text/plain": [
              "   emotion     Usage                                             pixels\n",
              "0        0  Training  70 80 82 72 58 58 60 63 54 58 60 48 89 115 121...\n",
              "1        0  Training  151 150 147 155 148 133 111 140 170 174 182 15...\n",
              "2        2  Training  231 212 156 164 174 138 161 173 182 200 106 38...\n",
              "3        4  Training  24 32 36 30 32 23 19 20 30 41 21 22 32 34 21 1...\n",
              "4        6  Training  4 0 0 0 0 0 0 0 0 0 0 0 3 15 23 28 48 50 58 84..."
            ]
          },
          "execution_count": 6,
          "metadata": {},
          "output_type": "execute_result"
        }
      ],
      "source": [
        "df.head()"
      ]
    },
    {
      "cell_type": "code",
      "execution_count": 7,
      "metadata": {},
      "outputs": [
        {
          "data": {
            "text/plain": [
              "Training       28709\n",
              "PublicTest      3589\n",
              "PrivateTest     3589\n",
              "Name:  Usage, dtype: int64"
            ]
          },
          "execution_count": 7,
          "metadata": {},
          "output_type": "execute_result"
        }
      ],
      "source": [
        "df[' Usage'].value_counts()"
      ]
    },
    {
      "cell_type": "code",
      "execution_count": 8,
      "metadata": {},
      "outputs": [
        {
          "data": {
            "text/plain": [
              "(35887, 3)"
            ]
          },
          "execution_count": 8,
          "metadata": {},
          "output_type": "execute_result"
        }
      ],
      "source": [
        "df.shape"
      ]
    },
    {
      "cell_type": "code",
      "execution_count": 9,
      "metadata": {},
      "outputs": [
        {
          "data": {
            "text/plain": [
              "array([[<AxesSubplot: title={'center': 'emotion'}>]], dtype=object)"
            ]
          },
          "execution_count": 9,
          "metadata": {},
          "output_type": "execute_result"
        },
        {
          "data": {
            "image/png": "[encoded data removed]",
            "text/plain": [
              "<Figure size 640x480 with 1 Axes>"
            ]
          },
          "metadata": {},
          "output_type": "display_data"
        }
      ],
      "source": [
        "df.hist()"
      ]
    },
    {
      "attachments": {},
      "cell_type": "markdown",
      "metadata": {},
      "source": [
        "training category"
      ]
    },
    {
      "cell_type": "code",
      "execution_count": 10,
      "metadata": {},
      "outputs": [
        {
          "data": {
            "text/plain": [
              "(28709, 3)"
            ]
          },
          "execution_count": 10,
          "metadata": {},
          "output_type": "execute_result"
        }
      ],
      "source": [
        "df.loc[df[' Usage'] == 'Training'].shape"
      ]
    },
    {
      "cell_type": "code",
      "execution_count": 11,
      "metadata": {},
      "outputs": [
        {
          "data": {
            "text/plain": [
              "3    7215\n",
              "6    4965\n",
              "4    4830\n",
              "2    4097\n",
              "0    3995\n",
              "5    3171\n",
              "1     436\n",
              "Name: emotion, dtype: int64"
            ]
          },
          "execution_count": 11,
          "metadata": {},
          "output_type": "execute_result"
        }
      ],
      "source": [
        "df.loc[df[' Usage'] == 'Training'].emotion.value_counts()"
      ]
    },
    {
      "attachments": {},
      "cell_type": "markdown",
      "metadata": {},
      "source": [
        "training category"
      ]
    },
    {
      "cell_type": "code",
      "execution_count": 12,
      "metadata": {},
      "outputs": [
        {
          "data": {
            "text/plain": [
              "(3589, 3)"
            ]
          },
          "execution_count": 12,
          "metadata": {},
          "output_type": "execute_result"
        }
      ],
      "source": [
        "df.loc[df[' Usage'] == 'PublicTest'].shape"
      ]
    },
    {
      "cell_type": "code",
      "execution_count": 13,
      "metadata": {},
      "outputs": [
        {
          "data": {
            "text/plain": [
              "3    895\n",
              "4    653\n",
              "6    607\n",
              "2    496\n",
              "0    467\n",
              "5    415\n",
              "1     56\n",
              "Name: emotion, dtype: int64"
            ]
          },
          "execution_count": 13,
          "metadata": {},
          "output_type": "execute_result"
        }
      ],
      "source": [
        "df.loc[df[' Usage'] == 'PublicTest'].emotion.value_counts()"
      ]
    },
    {
      "attachments": {},
      "cell_type": "markdown",
      "metadata": {},
      "source": [
        "private test"
      ]
    },
    {
      "cell_type": "code",
      "execution_count": 14,
      "metadata": {},
      "outputs": [
        {
          "data": {
            "text/plain": [
              "(3589, 3)"
            ]
          },
          "execution_count": 14,
          "metadata": {},
          "output_type": "execute_result"
        }
      ],
      "source": [
        "df.loc[df[' Usage'] == 'PrivateTest'].shape"
      ]
    },
    {
      "cell_type": "code",
      "execution_count": 15,
      "metadata": {},
      "outputs": [
        {
          "data": {
            "text/plain": [
              "3    879\n",
              "6    626\n",
              "4    594\n",
              "2    528\n",
              "0    491\n",
              "5    416\n",
              "1     55\n",
              "Name: emotion, dtype: int64"
            ]
          },
          "execution_count": 15,
          "metadata": {},
          "output_type": "execute_result"
        }
      ],
      "source": [
        "df.loc[df[' Usage'] == 'PrivateTest'].emotion.value_counts()"
      ]
    },
    {
      "cell_type": "code",
      "execution_count": 16,
      "metadata": {},
      "outputs": [
        {
          "data": {
            "text/plain": [
              "3    8989\n",
              "6    6198\n",
              "4    6077\n",
              "2    5121\n",
              "0    4953\n",
              "5    4002\n",
              "1     547\n",
              "Name: emotion, dtype: int64"
            ]
          },
          "execution_count": 16,
          "metadata": {},
          "output_type": "execute_result"
        }
      ],
      "source": [
        "df['emotion'].value_counts()"
      ]
    },
    {
      "attachments": {},
      "cell_type": "markdown",
      "metadata": {},
      "source": [
        "## Data Wrangling "
      ]
    },
    {
      "cell_type": "code",
      "execution_count": 17,
      "metadata": {},
      "outputs": [],
      "source": [
        "# Function that inputs a series of numerical strings separated\n",
        "# by a \" \" and returns a numpy array \n",
        "\n",
        "def convert_to_numpy(x):\n",
        "   \n",
        "    pixel_arr = []\n",
        "    \n",
        "    # convert string to a list of strings\n",
        "    pixels_list=x.str.split(' ')\n",
        "\n",
        "    for _ in pixels_list:\n",
        "        pixel_arr.append(pd.to_numeric(_))\n",
        "\n",
        "    pixels_num = np.array(pixel_arr)\n",
        "\n",
        "    return pixels_num"
      ]
    },
    {
      "attachments": {},
      "cell_type": "markdown",
      "metadata": {},
      "source": [
        "the square root of 2304 is 48, so the pixels need to be reshapped into 48 X 48 using the reshape method"
      ]
    },
    {
      "cell_type": "markdown",
      "metadata": {
        "id": "GTbHrEtXhZi7"
      },
      "source": [
        "drop group 1"
      ]
    },
    {
      "cell_type": "markdown",
      "metadata": {
        "id": "YZ9cs9RbRmZt"
      },
      "source": [
        "So the training dataset is unbalanced in regards to the 1 and 3 categories. These need to be rebalanced using some translation, etc of the data that is avalaible."
      ]
    },
    {
      "cell_type": "code",
      "execution_count": 18,
      "metadata": {
        "colab": {
          "base_uri": "https://localhost:8080/",
          "height": 316
        },
        "id": "3SUYhn9fT-P_",
        "outputId": "f4a17e75-9426-45a1-9ef9-51dfd3a9c640"
      },
      "outputs": [
        {
          "data": {
            "image/png": "[encoded data removed]",
            "text/plain": [
              "<Figure size 640x480 with 1 Axes>"
            ]
          },
          "metadata": {},
          "output_type": "display_data"
        }
      ],
      "source": [
        "df.hist();"
      ]
    },
    {
      "cell_type": "code",
      "execution_count": 19,
      "metadata": {
        "colab": {
          "base_uri": "https://localhost:8080/",
          "height": 300
        },
        "id": "iz1dF5aOUHmg",
        "outputId": "421af33c-af45-46d9-ffef-3160a5dac291"
      },
      "outputs": [
        {
          "data": {
            "text/html": [
              "<div>\n",
              "<style scoped>\n",
              "    .dataframe tbody tr th:only-of-type {\n",
              "        vertical-align: middle;\n",
              "    }\n",
              "\n",
              "    .dataframe tbody tr th {\n",
              "        vertical-align: top;\n",
              "    }\n",
              "\n",
              "    .dataframe thead th {\n",
              "        text-align: right;\n",
              "    }\n",
              "</style>\n",
              "<table border=\"1\" class=\"dataframe\">\n",
              "  <thead>\n",
              "    <tr style=\"text-align: right;\">\n",
              "      <th></th>\n",
              "      <th>emotion</th>\n",
              "    </tr>\n",
              "  </thead>\n",
              "  <tbody>\n",
              "    <tr>\n",
              "      <th>count</th>\n",
              "      <td>35887.000000</td>\n",
              "    </tr>\n",
              "    <tr>\n",
              "      <th>mean</th>\n",
              "      <td>3.323265</td>\n",
              "    </tr>\n",
              "    <tr>\n",
              "      <th>std</th>\n",
              "      <td>1.873819</td>\n",
              "    </tr>\n",
              "    <tr>\n",
              "      <th>min</th>\n",
              "      <td>0.000000</td>\n",
              "    </tr>\n",
              "    <tr>\n",
              "      <th>25%</th>\n",
              "      <td>2.000000</td>\n",
              "    </tr>\n",
              "    <tr>\n",
              "      <th>50%</th>\n",
              "      <td>3.000000</td>\n",
              "    </tr>\n",
              "    <tr>\n",
              "      <th>75%</th>\n",
              "      <td>5.000000</td>\n",
              "    </tr>\n",
              "    <tr>\n",
              "      <th>max</th>\n",
              "      <td>6.000000</td>\n",
              "    </tr>\n",
              "  </tbody>\n",
              "</table>\n",
              "</div>"
            ],
            "text/plain": [
              "            emotion\n",
              "count  35887.000000\n",
              "mean       3.323265\n",
              "std        1.873819\n",
              "min        0.000000\n",
              "25%        2.000000\n",
              "50%        3.000000\n",
              "75%        5.000000\n",
              "max        6.000000"
            ]
          },
          "execution_count": 19,
          "metadata": {},
          "output_type": "execute_result"
        }
      ],
      "source": [
        "df.describe()"
      ]
    },
    {
      "cell_type": "code",
      "execution_count": 20,
      "metadata": {
        "colab": {
          "base_uri": "https://localhost:8080/"
        },
        "id": "Mtfq5rMUUTxh",
        "outputId": "66eab18f-601f-4fa4-91e4-786ed9ee6977"
      },
      "outputs": [
        {
          "data": {
            "text/plain": [
              "3    8989\n",
              "6    6198\n",
              "4    6077\n",
              "2    5121\n",
              "0    4953\n",
              "5    4002\n",
              "1     547\n",
              "Name: emotion, dtype: int64"
            ]
          },
          "execution_count": 20,
          "metadata": {},
          "output_type": "execute_result"
        }
      ],
      "source": [
        "df['emotion'].value_counts()"
      ]
    },
    {
      "attachments": {},
      "cell_type": "markdown",
      "metadata": {},
      "source": [
        "the label 1 needs to be dropped since there are not that many training examples"
      ]
    },
    {
      "cell_type": "code",
      "execution_count": 21,
      "metadata": {},
      "outputs": [
        {
          "data": {
            "text/html": [
              "<div>\n",
              "<style scoped>\n",
              "    .dataframe tbody tr th:only-of-type {\n",
              "        vertical-align: middle;\n",
              "    }\n",
              "\n",
              "    .dataframe tbody tr th {\n",
              "        vertical-align: top;\n",
              "    }\n",
              "\n",
              "    .dataframe thead th {\n",
              "        text-align: right;\n",
              "    }\n",
              "</style>\n",
              "<table border=\"1\" class=\"dataframe\">\n",
              "  <thead>\n",
              "    <tr style=\"text-align: right;\">\n",
              "      <th></th>\n",
              "      <th>emotion</th>\n",
              "      <th>Usage</th>\n",
              "      <th>pixels</th>\n",
              "    </tr>\n",
              "  </thead>\n",
              "  <tbody>\n",
              "    <tr>\n",
              "      <th>0</th>\n",
              "      <td>0</td>\n",
              "      <td>Training</td>\n",
              "      <td>70 80 82 72 58 58 60 63 54 58 60 48 89 115 121...</td>\n",
              "    </tr>\n",
              "    <tr>\n",
              "      <th>1</th>\n",
              "      <td>0</td>\n",
              "      <td>Training</td>\n",
              "      <td>151 150 147 155 148 133 111 140 170 174 182 15...</td>\n",
              "    </tr>\n",
              "    <tr>\n",
              "      <th>2</th>\n",
              "      <td>2</td>\n",
              "      <td>Training</td>\n",
              "      <td>231 212 156 164 174 138 161 173 182 200 106 38...</td>\n",
              "    </tr>\n",
              "    <tr>\n",
              "      <th>3</th>\n",
              "      <td>4</td>\n",
              "      <td>Training</td>\n",
              "      <td>24 32 36 30 32 23 19 20 30 41 21 22 32 34 21 1...</td>\n",
              "    </tr>\n",
              "    <tr>\n",
              "      <th>4</th>\n",
              "      <td>6</td>\n",
              "      <td>Training</td>\n",
              "      <td>4 0 0 0 0 0 0 0 0 0 0 0 3 15 23 28 48 50 58 84...</td>\n",
              "    </tr>\n",
              "  </tbody>\n",
              "</table>\n",
              "</div>"
            ],
            "text/plain": [
              "   emotion     Usage                                             pixels\n",
              "0        0  Training  70 80 82 72 58 58 60 63 54 58 60 48 89 115 121...\n",
              "1        0  Training  151 150 147 155 148 133 111 140 170 174 182 15...\n",
              "2        2  Training  231 212 156 164 174 138 161 173 182 200 106 38...\n",
              "3        4  Training  24 32 36 30 32 23 19 20 30 41 21 22 32 34 21 1...\n",
              "4        6  Training  4 0 0 0 0 0 0 0 0 0 0 0 3 15 23 28 48 50 58 84..."
            ]
          },
          "execution_count": 21,
          "metadata": {},
          "output_type": "execute_result"
        }
      ],
      "source": [
        "df.head()"
      ]
    },
    {
      "cell_type": "code",
      "execution_count": 22,
      "metadata": {},
      "outputs": [
        {
          "data": {
            "text/plain": [
              "3    8989\n",
              "6    6198\n",
              "4    6077\n",
              "2    5121\n",
              "0    4953\n",
              "5    4002\n",
              "1     547\n",
              "Name: emotion, dtype: int64"
            ]
          },
          "execution_count": 22,
          "metadata": {},
          "output_type": "execute_result"
        }
      ],
      "source": [
        "df['emotion'].value_counts()"
      ]
    },
    {
      "cell_type": "code",
      "execution_count": 23,
      "metadata": {},
      "outputs": [],
      "source": [
        "# drop the one category\n",
        "df = df[df['emotion'] != 1].copy()"
      ]
    },
    {
      "cell_type": "code",
      "execution_count": 24,
      "metadata": {},
      "outputs": [
        {
          "data": {
            "text/plain": [
              "3    8989\n",
              "6    6198\n",
              "4    6077\n",
              "2    5121\n",
              "0    4953\n",
              "5    4002\n",
              "Name: emotion, dtype: int64"
            ]
          },
          "execution_count": 24,
          "metadata": {},
          "output_type": "execute_result"
        }
      ],
      "source": [
        "df['emotion'].value_counts()"
      ]
    },
    {
      "attachments": {},
      "cell_type": "markdown",
      "metadata": {},
      "source": [
        "need to remap the emotion categories (0=Angry, 1=Disgust, 2=Fear, 3=Happy, 4=Sad, 5=Surprise, 6=Neutral)\n",
        "\n",
        "need (0=Angry, 1=Fear, 2=Happy, 3=Sad, 4=Surprise, 5=Neutral)\n",
        "remap: "
      ]
    },
    {
      "cell_type": "code",
      "execution_count": 25,
      "metadata": {},
      "outputs": [],
      "source": [
        "dic_replace = {2:1, 3:2, 4:3, 5:4, 6:5}\n",
        "\n",
        "df['emotion'].replace(dic_replace, inplace=True)"
      ]
    },
    {
      "attachments": {},
      "cell_type": "markdown",
      "metadata": {},
      "source": [
        "need to remap the emotion categories (0=Angry, 1=Disgust, 1=Fear, 2=Happy, 3=Sad, 4=Surprise, 6=Neutral)"
      ]
    },
    {
      "cell_type": "code",
      "execution_count": 26,
      "metadata": {},
      "outputs": [
        {
          "data": {
            "text/plain": [
              "2    8989\n",
              "5    6198\n",
              "3    6077\n",
              "1    5121\n",
              "0    4953\n",
              "4    4002\n",
              "Name: emotion, dtype: int64"
            ]
          },
          "execution_count": 26,
          "metadata": {},
          "output_type": "execute_result"
        }
      ],
      "source": [
        "df['emotion'].value_counts()"
      ]
    },
    {
      "attachments": {},
      "cell_type": "markdown",
      "metadata": {},
      "source": [
        "training data "
      ]
    },
    {
      "cell_type": "code",
      "execution_count": 27,
      "metadata": {
        "id": "ZUfS4S8DWM6h"
      },
      "outputs": [],
      "source": [
        "train_df = df.loc[df[' Usage'] == 'Training']"
      ]
    },
    {
      "cell_type": "code",
      "execution_count": 28,
      "metadata": {},
      "outputs": [
        {
          "data": {
            "text/html": [
              "<div>\n",
              "<style scoped>\n",
              "    .dataframe tbody tr th:only-of-type {\n",
              "        vertical-align: middle;\n",
              "    }\n",
              "\n",
              "    .dataframe tbody tr th {\n",
              "        vertical-align: top;\n",
              "    }\n",
              "\n",
              "    .dataframe thead th {\n",
              "        text-align: right;\n",
              "    }\n",
              "</style>\n",
              "<table border=\"1\" class=\"dataframe\">\n",
              "  <thead>\n",
              "    <tr style=\"text-align: right;\">\n",
              "      <th></th>\n",
              "      <th>emotion</th>\n",
              "      <th>Usage</th>\n",
              "      <th>pixels</th>\n",
              "    </tr>\n",
              "  </thead>\n",
              "  <tbody>\n",
              "    <tr>\n",
              "      <th>0</th>\n",
              "      <td>0</td>\n",
              "      <td>Training</td>\n",
              "      <td>70 80 82 72 58 58 60 63 54 58 60 48 89 115 121...</td>\n",
              "    </tr>\n",
              "    <tr>\n",
              "      <th>1</th>\n",
              "      <td>0</td>\n",
              "      <td>Training</td>\n",
              "      <td>151 150 147 155 148 133 111 140 170 174 182 15...</td>\n",
              "    </tr>\n",
              "    <tr>\n",
              "      <th>2</th>\n",
              "      <td>1</td>\n",
              "      <td>Training</td>\n",
              "      <td>231 212 156 164 174 138 161 173 182 200 106 38...</td>\n",
              "    </tr>\n",
              "    <tr>\n",
              "      <th>3</th>\n",
              "      <td>3</td>\n",
              "      <td>Training</td>\n",
              "      <td>24 32 36 30 32 23 19 20 30 41 21 22 32 34 21 1...</td>\n",
              "    </tr>\n",
              "    <tr>\n",
              "      <th>4</th>\n",
              "      <td>5</td>\n",
              "      <td>Training</td>\n",
              "      <td>4 0 0 0 0 0 0 0 0 0 0 0 3 15 23 28 48 50 58 84...</td>\n",
              "    </tr>\n",
              "    <tr>\n",
              "      <th>...</th>\n",
              "      <td>...</td>\n",
              "      <td>...</td>\n",
              "      <td>...</td>\n",
              "    </tr>\n",
              "    <tr>\n",
              "      <th>28704</th>\n",
              "      <td>1</td>\n",
              "      <td>Training</td>\n",
              "      <td>84 85 85 85 85 85 85 85 86 86 86 87 86 86 91 9...</td>\n",
              "    </tr>\n",
              "    <tr>\n",
              "      <th>28705</th>\n",
              "      <td>0</td>\n",
              "      <td>Training</td>\n",
              "      <td>114 112 113 113 111 111 112 113 115 113 114 11...</td>\n",
              "    </tr>\n",
              "    <tr>\n",
              "      <th>28706</th>\n",
              "      <td>3</td>\n",
              "      <td>Training</td>\n",
              "      <td>74 81 87 89 95 100 98 93 105 120 127 133 146 1...</td>\n",
              "    </tr>\n",
              "    <tr>\n",
              "      <th>28707</th>\n",
              "      <td>0</td>\n",
              "      <td>Training</td>\n",
              "      <td>222 227 203 90 86 90 84 77 94 87 99 119 134 14...</td>\n",
              "    </tr>\n",
              "    <tr>\n",
              "      <th>28708</th>\n",
              "      <td>3</td>\n",
              "      <td>Training</td>\n",
              "      <td>195 199 205 206 205 203 206 209 208 210 212 21...</td>\n",
              "    </tr>\n",
              "  </tbody>\n",
              "</table>\n",
              "<p>28273 rows × 3 columns</p>\n",
              "</div>"
            ],
            "text/plain": [
              "       emotion     Usage                                             pixels\n",
              "0            0  Training  70 80 82 72 58 58 60 63 54 58 60 48 89 115 121...\n",
              "1            0  Training  151 150 147 155 148 133 111 140 170 174 182 15...\n",
              "2            1  Training  231 212 156 164 174 138 161 173 182 200 106 38...\n",
              "3            3  Training  24 32 36 30 32 23 19 20 30 41 21 22 32 34 21 1...\n",
              "4            5  Training  4 0 0 0 0 0 0 0 0 0 0 0 3 15 23 28 48 50 58 84...\n",
              "...        ...       ...                                                ...\n",
              "28704        1  Training  84 85 85 85 85 85 85 85 86 86 86 87 86 86 91 9...\n",
              "28705        0  Training  114 112 113 113 111 111 112 113 115 113 114 11...\n",
              "28706        3  Training  74 81 87 89 95 100 98 93 105 120 127 133 146 1...\n",
              "28707        0  Training  222 227 203 90 86 90 84 77 94 87 99 119 134 14...\n",
              "28708        3  Training  195 199 205 206 205 203 206 209 208 210 212 21...\n",
              "\n",
              "[28273 rows x 3 columns]"
            ]
          },
          "execution_count": 28,
          "metadata": {},
          "output_type": "execute_result"
        }
      ],
      "source": [
        "train_df"
      ]
    },
    {
      "cell_type": "code",
      "execution_count": 29,
      "metadata": {},
      "outputs": [],
      "source": [
        "train_df = train_df.drop([' Usage'], axis=1)"
      ]
    },
    {
      "attachments": {},
      "cell_type": "markdown",
      "metadata": {},
      "source": [
        "if we drop this row we need to recode the categorize so for now we will leave it"
      ]
    },
    {
      "cell_type": "code",
      "execution_count": 30,
      "metadata": {},
      "outputs": [
        {
          "data": {
            "text/html": [
              "<div>\n",
              "<style scoped>\n",
              "    .dataframe tbody tr th:only-of-type {\n",
              "        vertical-align: middle;\n",
              "    }\n",
              "\n",
              "    .dataframe tbody tr th {\n",
              "        vertical-align: top;\n",
              "    }\n",
              "\n",
              "    .dataframe thead th {\n",
              "        text-align: right;\n",
              "    }\n",
              "</style>\n",
              "<table border=\"1\" class=\"dataframe\">\n",
              "  <thead>\n",
              "    <tr style=\"text-align: right;\">\n",
              "      <th></th>\n",
              "      <th>emotion</th>\n",
              "      <th>pixels</th>\n",
              "    </tr>\n",
              "  </thead>\n",
              "  <tbody>\n",
              "    <tr>\n",
              "      <th>0</th>\n",
              "      <td>0</td>\n",
              "      <td>70 80 82 72 58 58 60 63 54 58 60 48 89 115 121...</td>\n",
              "    </tr>\n",
              "    <tr>\n",
              "      <th>1</th>\n",
              "      <td>0</td>\n",
              "      <td>151 150 147 155 148 133 111 140 170 174 182 15...</td>\n",
              "    </tr>\n",
              "    <tr>\n",
              "      <th>2</th>\n",
              "      <td>1</td>\n",
              "      <td>231 212 156 164 174 138 161 173 182 200 106 38...</td>\n",
              "    </tr>\n",
              "    <tr>\n",
              "      <th>3</th>\n",
              "      <td>3</td>\n",
              "      <td>24 32 36 30 32 23 19 20 30 41 21 22 32 34 21 1...</td>\n",
              "    </tr>\n",
              "    <tr>\n",
              "      <th>4</th>\n",
              "      <td>5</td>\n",
              "      <td>4 0 0 0 0 0 0 0 0 0 0 0 3 15 23 28 48 50 58 84...</td>\n",
              "    </tr>\n",
              "  </tbody>\n",
              "</table>\n",
              "</div>"
            ],
            "text/plain": [
              "   emotion                                             pixels\n",
              "0        0  70 80 82 72 58 58 60 63 54 58 60 48 89 115 121...\n",
              "1        0  151 150 147 155 148 133 111 140 170 174 182 15...\n",
              "2        1  231 212 156 164 174 138 161 173 182 200 106 38...\n",
              "3        3  24 32 36 30 32 23 19 20 30 41 21 22 32 34 21 1...\n",
              "4        5  4 0 0 0 0 0 0 0 0 0 0 0 3 15 23 28 48 50 58 84..."
            ]
          },
          "execution_count": 30,
          "metadata": {},
          "output_type": "execute_result"
        }
      ],
      "source": [
        "train_df.head()"
      ]
    },
    {
      "attachments": {},
      "cell_type": "markdown",
      "metadata": {},
      "source": [
        "validation data"
      ]
    },
    {
      "cell_type": "code",
      "execution_count": 31,
      "metadata": {
        "id": "jXBw3-BVdEgf"
      },
      "outputs": [],
      "source": [
        "valid_df = df.loc[df[' Usage'] == 'PrivateTest']"
      ]
    },
    {
      "cell_type": "code",
      "execution_count": 32,
      "metadata": {},
      "outputs": [],
      "source": [
        "valid_df = valid_df.drop(' Usage', axis=1)"
      ]
    },
    {
      "cell_type": "code",
      "execution_count": 33,
      "metadata": {},
      "outputs": [
        {
          "data": {
            "text/html": [
              "<div>\n",
              "<style scoped>\n",
              "    .dataframe tbody tr th:only-of-type {\n",
              "        vertical-align: middle;\n",
              "    }\n",
              "\n",
              "    .dataframe tbody tr th {\n",
              "        vertical-align: top;\n",
              "    }\n",
              "\n",
              "    .dataframe thead th {\n",
              "        text-align: right;\n",
              "    }\n",
              "</style>\n",
              "<table border=\"1\" class=\"dataframe\">\n",
              "  <thead>\n",
              "    <tr style=\"text-align: right;\">\n",
              "      <th></th>\n",
              "      <th>emotion</th>\n",
              "      <th>pixels</th>\n",
              "    </tr>\n",
              "  </thead>\n",
              "  <tbody>\n",
              "    <tr>\n",
              "      <th>32298</th>\n",
              "      <td>0</td>\n",
              "      <td>170 118 101 88 88 75 78 82 66 74 68 59 63 64 6...</td>\n",
              "    </tr>\n",
              "    <tr>\n",
              "      <th>32299</th>\n",
              "      <td>4</td>\n",
              "      <td>7 5 8 6 7 3 2 6 5 4 4 5 7 5 5 5 6 7 7 7 10 10 ...</td>\n",
              "    </tr>\n",
              "    <tr>\n",
              "      <th>32300</th>\n",
              "      <td>5</td>\n",
              "      <td>232 240 241 239 237 235 246 117 24 24 22 13 12...</td>\n",
              "    </tr>\n",
              "    <tr>\n",
              "      <th>32301</th>\n",
              "      <td>3</td>\n",
              "      <td>200 197 149 139 156 89 111 58 62 95 113 117 11...</td>\n",
              "    </tr>\n",
              "    <tr>\n",
              "      <th>32302</th>\n",
              "      <td>1</td>\n",
              "      <td>40 28 33 56 45 33 31 78 152 194 200 186 196 20...</td>\n",
              "    </tr>\n",
              "  </tbody>\n",
              "</table>\n",
              "</div>"
            ],
            "text/plain": [
              "       emotion                                             pixels\n",
              "32298        0  170 118 101 88 88 75 78 82 66 74 68 59 63 64 6...\n",
              "32299        4  7 5 8 6 7 3 2 6 5 4 4 5 7 5 5 5 6 7 7 7 10 10 ...\n",
              "32300        5  232 240 241 239 237 235 246 117 24 24 22 13 12...\n",
              "32301        3  200 197 149 139 156 89 111 58 62 95 113 117 11...\n",
              "32302        1  40 28 33 56 45 33 31 78 152 194 200 186 196 20..."
            ]
          },
          "execution_count": 33,
          "metadata": {},
          "output_type": "execute_result"
        }
      ],
      "source": [
        "valid_df.head()"
      ]
    },
    {
      "attachments": {},
      "cell_type": "markdown",
      "metadata": {},
      "source": [
        "test data"
      ]
    },
    {
      "cell_type": "code",
      "execution_count": 34,
      "metadata": {},
      "outputs": [
        {
          "data": {
            "text/html": [
              "<div>\n",
              "<style scoped>\n",
              "    .dataframe tbody tr th:only-of-type {\n",
              "        vertical-align: middle;\n",
              "    }\n",
              "\n",
              "    .dataframe tbody tr th {\n",
              "        vertical-align: top;\n",
              "    }\n",
              "\n",
              "    .dataframe thead th {\n",
              "        text-align: right;\n",
              "    }\n",
              "</style>\n",
              "<table border=\"1\" class=\"dataframe\">\n",
              "  <thead>\n",
              "    <tr style=\"text-align: right;\">\n",
              "      <th></th>\n",
              "      <th>emotion</th>\n",
              "      <th>pixels</th>\n",
              "    </tr>\n",
              "  </thead>\n",
              "  <tbody>\n",
              "    <tr>\n",
              "      <th>28709</th>\n",
              "      <td>0</td>\n",
              "      <td>254 254 254 254 254 249 255 160 2 58 53 70 77 ...</td>\n",
              "    </tr>\n",
              "    <tr>\n",
              "      <th>28711</th>\n",
              "      <td>3</td>\n",
              "      <td>69 118 61 60 96 121 103 87 103 88 70 90 115 12...</td>\n",
              "    </tr>\n",
              "    <tr>\n",
              "      <th>28712</th>\n",
              "      <td>5</td>\n",
              "      <td>205 203 236 157 83 158 120 116 94 86 155 180 2...</td>\n",
              "    </tr>\n",
              "    <tr>\n",
              "      <th>28713</th>\n",
              "      <td>2</td>\n",
              "      <td>87 79 74 66 74 96 77 80 80 84 83 89 102 91 84 ...</td>\n",
              "    </tr>\n",
              "    <tr>\n",
              "      <th>28714</th>\n",
              "      <td>2</td>\n",
              "      <td>235 233 223 109 34 37 34 31 28 38 56 69 106 13...</td>\n",
              "    </tr>\n",
              "  </tbody>\n",
              "</table>\n",
              "</div>"
            ],
            "text/plain": [
              "       emotion                                             pixels\n",
              "28709        0  254 254 254 254 254 249 255 160 2 58 53 70 77 ...\n",
              "28711        3  69 118 61 60 96 121 103 87 103 88 70 90 115 12...\n",
              "28712        5  205 203 236 157 83 158 120 116 94 86 155 180 2...\n",
              "28713        2  87 79 74 66 74 96 77 80 80 84 83 89 102 91 84 ...\n",
              "28714        2  235 233 223 109 34 37 34 31 28 38 56 69 106 13..."
            ]
          },
          "execution_count": 34,
          "metadata": {},
          "output_type": "execute_result"
        }
      ],
      "source": [
        "test_df = df.loc[df[' Usage'] == 'PublicTest']\n",
        "test_df = test_df.drop(' Usage', axis=1)\n",
        "test_df.head()"
      ]
    },
    {
      "cell_type": "code",
      "execution_count": 35,
      "metadata": {
        "colab": {
          "base_uri": "https://localhost:8080/",
          "height": 503
        },
        "id": "PtAT1j31dNf1",
        "outputId": "a5848d22-ed2d-4a75-8345-358a01a8d4aa"
      },
      "outputs": [],
      "source": [
        "# Separate out our target values\n",
        "y_train = train_df['emotion']\n",
        "y_valid = valid_df['emotion']\n",
        "y_test = test_df['emotion']\n",
        "\n",
        "# Separate out our image vectors\n",
        "x_train = convert_to_numpy(train_df[' pixels'])\n",
        "x_valid = convert_to_numpy(valid_df[' pixels'])\n",
        "x_test = convert_to_numpy(test_df[' pixels'])\n",
        "\n",
        "\n",
        "\n",
        "\n"
      ]
    },
    {
      "cell_type": "code",
      "execution_count": 36,
      "metadata": {},
      "outputs": [
        {
          "data": {
            "text/plain": [
              "28709    0\n",
              "28711    3\n",
              "28712    5\n",
              "28713    2\n",
              "28714    2\n",
              "        ..\n",
              "32293    3\n",
              "32294    2\n",
              "32295    3\n",
              "32296    3\n",
              "32297    3\n",
              "Name: emotion, Length: 3533, dtype: int64"
            ]
          },
          "execution_count": 36,
          "metadata": {},
          "output_type": "execute_result"
        }
      ],
      "source": [
        "y_test"
      ]
    },
    {
      "cell_type": "code",
      "execution_count": null,
      "metadata": {},
      "outputs": [],
      "source": []
    },
    {
      "cell_type": "code",
      "execution_count": 37,
      "metadata": {},
      "outputs": [],
      "source": [
        "class_weights = class_weight.compute_class_weight(\n",
        "           class_weight='balanced',\n",
        "            classes= np.unique(y_train), \n",
        "            y= y_train)"
      ]
    },
    {
      "cell_type": "code",
      "execution_count": 38,
      "metadata": {},
      "outputs": [
        {
          "data": {
            "text/plain": [
              "array([1.17951606, 1.15015052, 0.65310695, 0.97560386, 1.48601913,\n",
              "       0.94907687])"
            ]
          },
          "execution_count": 38,
          "metadata": {},
          "output_type": "execute_result"
        }
      ],
      "source": [
        "class_weights"
      ]
    },
    {
      "cell_type": "code",
      "execution_count": 39,
      "metadata": {},
      "outputs": [],
      "source": [
        "\n",
        "class_weights = dict(enumerate(class_weights))"
      ]
    },
    {
      "cell_type": "code",
      "execution_count": 40,
      "metadata": {},
      "outputs": [
        {
          "data": {
            "text/plain": [
              "{0: 1.1795160617438465,\n",
              " 1: 1.1501505166381905,\n",
              " 2: 0.6531069531069531,\n",
              " 3: 0.9756038647342995,\n",
              " 4: 1.486019131714496,\n",
              " 5: 0.9490768714333669}"
            ]
          },
          "execution_count": 40,
          "metadata": {},
          "output_type": "execute_result"
        }
      ],
      "source": [
        "class_weights"
      ]
    },
    {
      "cell_type": "code",
      "execution_count": 41,
      "metadata": {},
      "outputs": [
        {
          "data": {
            "text/plain": [
              "module"
            ]
          },
          "execution_count": 41,
          "metadata": {},
          "output_type": "execute_result"
        }
      ],
      "source": [
        "type(class_weight)"
      ]
    },
    {
      "cell_type": "code",
      "execution_count": 42,
      "metadata": {},
      "outputs": [
        {
          "data": {
            "text/plain": [
              "0        0\n",
              "1        0\n",
              "2        1\n",
              "3        3\n",
              "4        5\n",
              "        ..\n",
              "28704    1\n",
              "28705    0\n",
              "28706    3\n",
              "28707    0\n",
              "28708    3\n",
              "Name: emotion, Length: 28273, dtype: int64"
            ]
          },
          "execution_count": 42,
          "metadata": {},
          "output_type": "execute_result"
        }
      ],
      "source": [
        "y_train"
      ]
    },
    {
      "cell_type": "code",
      "execution_count": 43,
      "metadata": {},
      "outputs": [],
      "source": [
        "# Turn our scalar targets into binary categories\n",
        "num_classes = 6\n",
        "y_train = keras.utils.to_categorical(y_train, num_classes)\n",
        "y_valid = keras.utils.to_categorical(y_valid, num_classes)\n",
        "y_test = keras.utils.to_categorical(y_test, num_classes)\n"
      ]
    },
    {
      "cell_type": "code",
      "execution_count": 44,
      "metadata": {},
      "outputs": [
        {
          "data": {
            "text/plain": [
              "(28273, 6)"
            ]
          },
          "execution_count": 44,
          "metadata": {},
          "output_type": "execute_result"
        }
      ],
      "source": [
        "y_train.shape"
      ]
    },
    {
      "cell_type": "code",
      "execution_count": 45,
      "metadata": {},
      "outputs": [
        {
          "data": {
            "text/plain": [
              "array([[ 70,  80,  82, ..., 106, 109,  82],\n",
              "       [151, 150, 147, ..., 193, 183, 184],\n",
              "       [231, 212, 156, ...,  88, 110, 152],\n",
              "       ...,\n",
              "       [ 74,  81,  87, ..., 188, 187, 187],\n",
              "       [222, 227, 203, ..., 136, 136, 134],\n",
              "       [195, 199, 205, ...,   6,  15,  38]], dtype=int64)"
            ]
          },
          "execution_count": 45,
          "metadata": {},
          "output_type": "execute_result"
        }
      ],
      "source": [
        "x_train"
      ]
    },
    {
      "cell_type": "code",
      "execution_count": 46,
      "metadata": {},
      "outputs": [],
      "source": [
        "x_train = x_train.astype('float32')\n",
        "x_valid = x_valid.astype('float32')\n",
        "x_test = x_test.astype('float32')"
      ]
    },
    {
      "cell_type": "code",
      "execution_count": 47,
      "metadata": {},
      "outputs": [],
      "source": [
        "# Normalize our image data\n",
        "x_train = np.divide(x_train, 255.0)\n",
        "x_valid = np.divide(x_valid, 255.0)\n",
        "x_test = np.divide(x_test, 255.0)"
      ]
    },
    {
      "cell_type": "code",
      "execution_count": 48,
      "metadata": {},
      "outputs": [
        {
          "data": {
            "text/plain": [
              "array([[0.27450982, 0.3137255 , 0.32156864, ..., 0.41568628, 0.42745098,\n",
              "        0.32156864],\n",
              "       [0.5921569 , 0.5882353 , 0.5764706 , ..., 0.75686276, 0.7176471 ,\n",
              "        0.72156864],\n",
              "       [0.90588236, 0.83137256, 0.6117647 , ..., 0.34509805, 0.43137255,\n",
              "        0.59607846],\n",
              "       ...,\n",
              "       [0.2901961 , 0.31764707, 0.34117648, ..., 0.7372549 , 0.73333335,\n",
              "        0.73333335],\n",
              "       [0.87058824, 0.8901961 , 0.79607844, ..., 0.53333336, 0.53333336,\n",
              "        0.5254902 ],\n",
              "       [0.7647059 , 0.78039217, 0.8039216 , ..., 0.02352941, 0.05882353,\n",
              "        0.14901961]], dtype=float32)"
            ]
          },
          "execution_count": 48,
          "metadata": {},
          "output_type": "execute_result"
        }
      ],
      "source": [
        "x_train"
      ]
    },
    {
      "cell_type": "markdown",
      "metadata": {
        "id": "deeD1V11hna5"
      },
      "source": [
        "set a certain range for train_test_split"
      ]
    },
    {
      "cell_type": "code",
      "execution_count": 49,
      "metadata": {
        "id": "_lZdjvWJXN-K"
      },
      "outputs": [],
      "source": [
        "x_train = x_train.reshape(-1,48,48,1)\n",
        "x_valid = x_valid.reshape(-1,48,48,1)\n",
        "x_test = x_test.reshape(-1,48,48,1)"
      ]
    },
    {
      "cell_type": "code",
      "execution_count": 50,
      "metadata": {},
      "outputs": [
        {
          "data": {
            "text/plain": [
              "array([[[[0.27450982],\n",
              "         [0.3137255 ],\n",
              "         [0.32156864],\n",
              "         ...,\n",
              "         [0.20392157],\n",
              "         [0.16862746],\n",
              "         [0.16078432]],\n",
              "\n",
              "        [[0.25490198],\n",
              "         [0.23921569],\n",
              "         [0.22745098],\n",
              "         ...,\n",
              "         [0.21960784],\n",
              "         [0.20392157],\n",
              "         [0.17254902]],\n",
              "\n",
              "        [[0.19607843],\n",
              "         [0.16862746],\n",
              "         [0.21176471],\n",
              "         ...,\n",
              "         [0.19215687],\n",
              "         [0.21960784],\n",
              "         [0.18431373]],\n",
              "\n",
              "        ...,\n",
              "\n",
              "        [[0.35686275],\n",
              "         [0.25490198],\n",
              "         [0.16470589],\n",
              "         ...,\n",
              "         [0.28235295],\n",
              "         [0.21960784],\n",
              "         [0.16862746]],\n",
              "\n",
              "        [[0.3019608 ],\n",
              "         [0.32156864],\n",
              "         [0.30980393],\n",
              "         ...,\n",
              "         [0.4117647 ],\n",
              "         [0.27450982],\n",
              "         [0.18039216]],\n",
              "\n",
              "        [[0.3019608 ],\n",
              "         [0.28235295],\n",
              "         [0.32941177],\n",
              "         ...,\n",
              "         [0.41568628],\n",
              "         [0.42745098],\n",
              "         [0.32156864]]],\n",
              "\n",
              "\n",
              "       [[[0.5921569 ],\n",
              "         [0.5882353 ],\n",
              "         [0.5764706 ],\n",
              "         ...,\n",
              "         [0.5058824 ],\n",
              "         [0.54901963],\n",
              "         [0.47058824]],\n",
              "\n",
              "        [[0.5921569 ],\n",
              "         [0.58431375],\n",
              "         [0.58431375],\n",
              "         ...,\n",
              "         [0.47843137],\n",
              "         [0.5529412 ],\n",
              "         [0.5372549 ]],\n",
              "\n",
              "        [[0.5921569 ],\n",
              "         [0.5921569 ],\n",
              "         [0.6117647 ],\n",
              "         ...,\n",
              "         [0.42745098],\n",
              "         [0.48235294],\n",
              "         [0.57254905]],\n",
              "\n",
              "        ...,\n",
              "\n",
              "        [[0.7372549 ],\n",
              "         [0.7372549 ],\n",
              "         [0.4745098 ],\n",
              "         ...,\n",
              "         [0.7254902 ],\n",
              "         [0.7254902 ],\n",
              "         [0.7294118 ]],\n",
              "\n",
              "        [[0.7372549 ],\n",
              "         [0.73333335],\n",
              "         [0.76862746],\n",
              "         ...,\n",
              "         [0.7294118 ],\n",
              "         [0.7137255 ],\n",
              "         [0.73333335]],\n",
              "\n",
              "        [[0.7294118 ],\n",
              "         [0.72156864],\n",
              "         [0.7254902 ],\n",
              "         ...,\n",
              "         [0.75686276],\n",
              "         [0.7176471 ],\n",
              "         [0.72156864]]],\n",
              "\n",
              "\n",
              "       [[[0.90588236],\n",
              "         [0.83137256],\n",
              "         [0.6117647 ],\n",
              "         ...,\n",
              "         [0.17254902],\n",
              "         [0.10588235],\n",
              "         [0.0627451 ]],\n",
              "\n",
              "        [[0.8980392 ],\n",
              "         [0.6862745 ],\n",
              "         [0.5803922 ],\n",
              "         ...,\n",
              "         [0.10588235],\n",
              "         [0.13725491],\n",
              "         [0.10588235]],\n",
              "\n",
              "        [[0.8392157 ],\n",
              "         [0.6117647 ],\n",
              "         [0.6156863 ],\n",
              "         ...,\n",
              "         [0.10980392],\n",
              "         [0.08627451],\n",
              "         [0.10980392]],\n",
              "\n",
              "        ...,\n",
              "\n",
              "        [[0.94509804],\n",
              "         [0.9607843 ],\n",
              "         [0.98039216],\n",
              "         ...,\n",
              "         [0.22352941],\n",
              "         [0.39607844],\n",
              "         [0.57254905]],\n",
              "\n",
              "        [[0.9647059 ],\n",
              "         [0.98039216],\n",
              "         [0.9882353 ],\n",
              "         ...,\n",
              "         [0.30588236],\n",
              "         [0.4117647 ],\n",
              "         [0.63529414]],\n",
              "\n",
              "        [[0.98039216],\n",
              "         [0.9843137 ],\n",
              "         [0.98039216],\n",
              "         ...,\n",
              "         [0.34509805],\n",
              "         [0.43137255],\n",
              "         [0.59607846]]],\n",
              "\n",
              "\n",
              "       ...,\n",
              "\n",
              "\n",
              "       [[[0.2901961 ],\n",
              "         [0.31764707],\n",
              "         [0.34117648],\n",
              "         ...,\n",
              "         [0.7411765 ],\n",
              "         [0.7490196 ],\n",
              "         [0.7529412 ]],\n",
              "\n",
              "        [[0.30588236],\n",
              "         [0.32156864],\n",
              "         [0.34901962],\n",
              "         ...,\n",
              "         [0.7254902 ],\n",
              "         [0.7411765 ],\n",
              "         [0.75686276]],\n",
              "\n",
              "        [[0.31764707],\n",
              "         [0.3372549 ],\n",
              "         [0.36862746],\n",
              "         ...,\n",
              "         [0.6901961 ],\n",
              "         [0.7254902 ],\n",
              "         [0.75686276]],\n",
              "\n",
              "        ...,\n",
              "\n",
              "        [[0.3529412 ],\n",
              "         [0.3882353 ],\n",
              "         [0.44313726],\n",
              "         ...,\n",
              "         [0.7529412 ],\n",
              "         [0.7647059 ],\n",
              "         [0.77254903]],\n",
              "\n",
              "        [[0.34509805],\n",
              "         [0.3764706 ],\n",
              "         [0.44705883],\n",
              "         ...,\n",
              "         [0.7529412 ],\n",
              "         [0.7607843 ],\n",
              "         [0.7529412 ]],\n",
              "\n",
              "        [[0.34509805],\n",
              "         [0.38039216],\n",
              "         [0.43137255],\n",
              "         ...,\n",
              "         [0.7372549 ],\n",
              "         [0.73333335],\n",
              "         [0.73333335]]],\n",
              "\n",
              "\n",
              "       [[[0.87058824],\n",
              "         [0.8901961 ],\n",
              "         [0.79607844],\n",
              "         ...,\n",
              "         [0.5411765 ],\n",
              "         [0.5176471 ],\n",
              "         [0.47843137]],\n",
              "\n",
              "        [[0.87058824],\n",
              "         [0.8862745 ],\n",
              "         [0.79607844],\n",
              "         ...,\n",
              "         [0.5568628 ],\n",
              "         [0.53333336],\n",
              "         [0.49803922]],\n",
              "\n",
              "        [[0.87058824],\n",
              "         [0.88235295],\n",
              "         [0.80784315],\n",
              "         ...,\n",
              "         [0.5764706 ],\n",
              "         [0.56078434],\n",
              "         [0.5058824 ]],\n",
              "\n",
              "        ...,\n",
              "\n",
              "        [[0.7019608 ],\n",
              "         [0.7058824 ],\n",
              "         [0.69411767],\n",
              "         ...,\n",
              "         [0.5529412 ],\n",
              "         [0.54509807],\n",
              "         [0.5372549 ]],\n",
              "\n",
              "        [[0.7372549 ],\n",
              "         [0.7137255 ],\n",
              "         [0.6901961 ],\n",
              "         ...,\n",
              "         [0.5411765 ],\n",
              "         [0.53333336],\n",
              "         [0.5294118 ]],\n",
              "\n",
              "        [[0.70980394],\n",
              "         [0.65882355],\n",
              "         [0.60784316],\n",
              "         ...,\n",
              "         [0.53333336],\n",
              "         [0.53333336],\n",
              "         [0.5254902 ]]],\n",
              "\n",
              "\n",
              "       [[[0.7647059 ],\n",
              "         [0.78039217],\n",
              "         [0.8039216 ],\n",
              "         ...,\n",
              "         [0.7137255 ],\n",
              "         [0.54901963],\n",
              "         [0.3019608 ]],\n",
              "\n",
              "        [[0.75686276],\n",
              "         [0.76862746],\n",
              "         [0.7921569 ],\n",
              "         ...,\n",
              "         [0.77254903],\n",
              "         [0.64705884],\n",
              "         [0.4117647 ]],\n",
              "\n",
              "        [[0.7764706 ],\n",
              "         [0.78431374],\n",
              "         [0.8       ],\n",
              "         ...,\n",
              "         [0.8156863 ],\n",
              "         [0.76862746],\n",
              "         [0.6156863 ]],\n",
              "\n",
              "        ...,\n",
              "\n",
              "        [[0.22352941],\n",
              "         [0.28627452],\n",
              "         [0.32941177],\n",
              "         ...,\n",
              "         [0.01176471],\n",
              "         [0.07843138],\n",
              "         [0.12941177]],\n",
              "\n",
              "        [[0.23921569],\n",
              "         [0.28627452],\n",
              "         [0.3764706 ],\n",
              "         ...,\n",
              "         [0.02352941],\n",
              "         [0.07450981],\n",
              "         [0.16078432]],\n",
              "\n",
              "        [[0.23921569],\n",
              "         [0.30980393],\n",
              "         [0.37254903],\n",
              "         ...,\n",
              "         [0.02352941],\n",
              "         [0.05882353],\n",
              "         [0.14901961]]]], dtype=float32)"
            ]
          },
          "execution_count": 50,
          "metadata": {},
          "output_type": "execute_result"
        }
      ],
      "source": [
        "x_train"
      ]
    },
    {
      "attachments": {},
      "cell_type": "markdown",
      "metadata": {},
      "source": [
        "## Creating the Convolution Model Layers"
      ]
    },
    {
      "cell_type": "code",
      "execution_count": 51,
      "metadata": {},
      "outputs": [
        {
          "name": "stdout",
          "output_type": "stream",
          "text": [
            "Num GPUs Available:  1\n"
          ]
        }
      ],
      "source": [
        "print(\"Num GPUs Available: \", len(tf.config.list_physical_devices('GPU')))"
      ]
    },
    {
      "attachments": {},
      "cell_type": "markdown",
      "metadata": {},
      "source": [
        "look into scikit learn weight generation for imbalanced classes"
      ]
    },
    {
      "cell_type": "code",
      "execution_count": 68,
      "metadata": {},
      "outputs": [],
      "source": [
        "# it seems like playing with the dropout rate and number of layers, improve the metric\n",
        "from tensorflow.keras.models import Sequential\n",
        "from tensorflow.keras.layers import (\n",
        "    Dense,\n",
        "    Conv2D,\n",
        "    MaxPool2D,\n",
        "    Flatten,\n",
        "    Dropout,\n",
        "    BatchNormalization,\n",
        ")\n",
        "\n",
        "model = Sequential()\n",
        "\n",
        "#1st block\n",
        "model.add(Conv2D(64, (3, 3),kernel_initializer='he_normal',bias_initializer='zeros', strides= (1,1), padding=\"same\", activation=\"elu\", \n",
        "                 input_shape=(48, 48, 1)))\n",
        "model.add(BatchNormalization())\n",
        "#model.add(MaxPool2D((2, 2), strides=(2,2), padding=\"same\"))\n",
        "#model.add(Dropout(0.4))\n",
        "model.add(Conv2D(64, (3, 3), strides=(1,1), padding=\"same\", activation=\"elu\", kernel_initializer='he_normal',bias_initializer='zeros'))\n",
        "model.add(BatchNormalization())\n",
        "model.add(MaxPool2D((2, 2), strides=(2,2), padding=\"same\"))\n",
        "model.add(Dropout(0.4))\n",
        "\n",
        "#2nd block\n",
        "\n",
        "model.add(Conv2D(128, (3, 3), strides=(1,1), padding=\"same\", activation=\"elu\", kernel_initializer='he_normal',bias_initializer='zeros'))\n",
        "model.add(BatchNormalization())\n",
        "#model.add(MaxPool2D((2, 2), strides=(2,2), padding=\"same\"))\n",
        "#model.add(Dropout(0.4))\n",
        "model.add(Conv2D(128, (3, 3), strides=(1,1), padding=\"same\", activation=\"elu\", kernel_initializer='he_normal',bias_initializer='zeros'))\n",
        "model.add(BatchNormalization())\n",
        "model.add(MaxPool2D((2, 2), strides=(2,2), padding=\"same\"))\n",
        "model.add(Dropout(0.4))\n",
        "\n",
        "#3nd block\n",
        "\n",
        "model.add(Conv2D(128, (3, 3), strides=(1,1), padding=\"same\", activation=\"elu\", kernel_initializer='he_normal',bias_initializer='zeros'))\n",
        "model.add(BatchNormalization())\n",
        "#model.add(MaxPool2D((2, 2), strides=(2,2), padding=\"same\"))\n",
        "#model.add(Dropout(0.4))\n",
        "model.add(Conv2D(128, (3, 3), strides=(1,1), padding=\"same\", activation=\"elu\", kernel_initializer='he_normal',bias_initializer='zeros'))\n",
        "model.add(BatchNormalization())\n",
        "model.add(MaxPool2D((2, 2), strides=(2,2), padding=\"same\"))\n",
        "model.add(Dropout(0.4))\n",
        "\n",
        "#4th block\n",
        "\n",
        "model.add(Conv2D(256, (3, 3), strides=(1,1), padding=\"same\", activation=\"elu\", kernel_initializer='he_normal',bias_initializer='zeros'))\n",
        "model.add(BatchNormalization())\n",
        "#model.add(MaxPool2D((2, 2), strides=(2,2), padding=\"same\"))\n",
        "#model.add(Dropout(0.4))\n",
        "model.add(Conv2D(256, (3, 3), strides=(1,1), padding=\"same\", activation=\"elu\", kernel_initializer='he_normal',bias_initializer='zeros'))\n",
        "model.add(BatchNormalization())\n",
        "model.add(MaxPool2D((2, 2), strides=(2,2), padding=\"same\"))\n",
        "model.add(Dropout(0.4))\n",
        "\n",
        "#5th block\n",
        "model.add(Conv2D(256, (3, 3), strides=(1,1), padding=\"same\", activation=\"elu\", kernel_initializer='he_normal',bias_initializer='zeros'))\n",
        "model.add(BatchNormalization())\n",
        "#model.add(MaxPool2D((2, 2), strides=(2,2), padding=\"same\"))\n",
        "#model.add(Dropout(0.4))\n",
        "model.add(Conv2D(256, (3, 3), strides=(1,1), padding=\"same\", activation=\"elu\", kernel_initializer='he_normal',bias_initializer='zeros'))\n",
        "model.add(BatchNormalization())\n",
        "model.add(MaxPool2D((2, 2), strides=(2,2), padding=\"same\"))\n",
        "model.add(Dropout(0.4))\n",
        "\n",
        "#5th block\n",
        "model.add(Conv2D(256, (3, 3), strides=(1,1), padding=\"same\", activation=\"elu\", kernel_initializer='he_normal',bias_initializer='zeros'))\n",
        "model.add(BatchNormalization())\n",
        "#model.add(MaxPool2D((2, 2), strides=(2,2), padding=\"same\"))\n",
        "#model.add(Dropout(0.4))\n",
        "model.add(Conv2D(256, (3, 3), strides=(1,1), padding=\"same\", activation=\"elu\", kernel_initializer='he_normal',bias_initializer='zeros'))\n",
        "model.add(BatchNormalization())\n",
        "model.add(MaxPool2D((2, 2), strides=(2,2), padding=\"same\"))\n",
        "model.add(Dropout(0.4))\n",
        "\n",
        "\n",
        "\n",
        "\n",
        "model.add(Flatten())\n",
        "model.add(Dense(units=128, activation=\"elu\",kernel_initializer='he_normal',bias_initializer='zeros'))\n",
        "model.add(BatchNormalization())\n",
        "model.add(Dropout(0.5))\n",
        "model.add(Dense(units=num_classes, activation=\"softmax\"))"
      ]
    },
    {
      "cell_type": "code",
      "execution_count": 53,
      "metadata": {},
      "outputs": [
        {
          "name": "stdout",
          "output_type": "stream",
          "text": [
            "Model: \"sequential\"\n",
            "_________________________________________________________________\n",
            " Layer (type)                Output Shape              Param #   \n",
            "=================================================================\n",
            " conv2d (Conv2D)             (None, 48, 48, 64)        640       \n",
            "                                                                 \n",
            " batch_normalization (BatchN  (None, 48, 48, 64)       256       \n",
            " ormalization)                                                   \n",
            "                                                                 \n",
            " max_pooling2d (MaxPooling2D  (None, 24, 24, 64)       0         \n",
            " )                                                               \n",
            "                                                                 \n",
            " dropout (Dropout)           (None, 24, 24, 64)        0         \n",
            "                                                                 \n",
            " conv2d_1 (Conv2D)           (None, 24, 24, 64)        36928     \n",
            "                                                                 \n",
            " batch_normalization_1 (Batc  (None, 24, 24, 64)       256       \n",
            " hNormalization)                                                 \n",
            "                                                                 \n",
            " max_pooling2d_1 (MaxPooling  (None, 12, 12, 64)       0         \n",
            " 2D)                                                             \n",
            "                                                                 \n",
            " dropout_1 (Dropout)         (None, 12, 12, 64)        0         \n",
            "                                                                 \n",
            " conv2d_2 (Conv2D)           (None, 12, 12, 128)       73856     \n",
            "                                                                 \n",
            " batch_normalization_2 (Batc  (None, 12, 12, 128)      512       \n",
            " hNormalization)                                                 \n",
            "                                                                 \n",
            " max_pooling2d_2 (MaxPooling  (None, 6, 6, 128)        0         \n",
            " 2D)                                                             \n",
            "                                                                 \n",
            " dropout_2 (Dropout)         (None, 6, 6, 128)         0         \n",
            "                                                                 \n",
            " conv2d_3 (Conv2D)           (None, 6, 6, 128)         147584    \n",
            "                                                                 \n",
            " batch_normalization_3 (Batc  (None, 6, 6, 128)        512       \n",
            " hNormalization)                                                 \n",
            "                                                                 \n",
            " max_pooling2d_3 (MaxPooling  (None, 3, 3, 128)        0         \n",
            " 2D)                                                             \n",
            "                                                                 \n",
            " dropout_3 (Dropout)         (None, 3, 3, 128)         0         \n",
            "                                                                 \n",
            " conv2d_4 (Conv2D)           (None, 3, 3, 128)         147584    \n",
            "                                                                 \n",
            " batch_normalization_4 (Batc  (None, 3, 3, 128)        512       \n",
            " hNormalization)                                                 \n",
            "                                                                 \n",
            " max_pooling2d_4 (MaxPooling  (None, 2, 2, 128)        0         \n",
            " 2D)                                                             \n",
            "                                                                 \n",
            " dropout_4 (Dropout)         (None, 2, 2, 128)         0         \n",
            "                                                                 \n",
            " conv2d_5 (Conv2D)           (None, 2, 2, 128)         147584    \n",
            "                                                                 \n",
            " batch_normalization_5 (Batc  (None, 2, 2, 128)        512       \n",
            " hNormalization)                                                 \n",
            "                                                                 \n",
            " max_pooling2d_5 (MaxPooling  (None, 1, 1, 128)        0         \n",
            " 2D)                                                             \n",
            "                                                                 \n",
            " dropout_5 (Dropout)         (None, 1, 1, 128)         0         \n",
            "                                                                 \n",
            " conv2d_6 (Conv2D)           (None, 1, 1, 256)         295168    \n",
            "                                                                 \n",
            " batch_normalization_6 (Batc  (None, 1, 1, 256)        1024      \n",
            " hNormalization)                                                 \n",
            "                                                                 \n",
            " max_pooling2d_6 (MaxPooling  (None, 1, 1, 256)        0         \n",
            " 2D)                                                             \n",
            "                                                                 \n",
            " dropout_6 (Dropout)         (None, 1, 1, 256)         0         \n",
            "                                                                 \n",
            " conv2d_7 (Conv2D)           (None, 1, 1, 256)         590080    \n",
            "                                                                 \n",
            " batch_normalization_7 (Batc  (None, 1, 1, 256)        1024      \n",
            " hNormalization)                                                 \n",
            "                                                                 \n",
            " max_pooling2d_7 (MaxPooling  (None, 1, 1, 256)        0         \n",
            " 2D)                                                             \n",
            "                                                                 \n",
            " dropout_7 (Dropout)         (None, 1, 1, 256)         0         \n",
            "                                                                 \n",
            " conv2d_8 (Conv2D)           (None, 1, 1, 256)         590080    \n",
            "                                                                 \n",
            " batch_normalization_8 (Batc  (None, 1, 1, 256)        1024      \n",
            " hNormalization)                                                 \n",
            "                                                                 \n",
            " max_pooling2d_8 (MaxPooling  (None, 1, 1, 256)        0         \n",
            " 2D)                                                             \n",
            "                                                                 \n",
            " dropout_8 (Dropout)         (None, 1, 1, 256)         0         \n",
            "                                                                 \n",
            " conv2d_9 (Conv2D)           (None, 1, 1, 256)         590080    \n",
            "                                                                 \n",
            " batch_normalization_9 (Batc  (None, 1, 1, 256)        1024      \n",
            " hNormalization)                                                 \n",
            "                                                                 \n",
            " max_pooling2d_9 (MaxPooling  (None, 1, 1, 256)        0         \n",
            " 2D)                                                             \n",
            "                                                                 \n",
            " dropout_9 (Dropout)         (None, 1, 1, 256)         0         \n",
            "                                                                 \n",
            " conv2d_10 (Conv2D)          (None, 1, 1, 256)         590080    \n",
            "                                                                 \n",
            " batch_normalization_10 (Bat  (None, 1, 1, 256)        1024      \n",
            " chNormalization)                                                \n",
            "                                                                 \n",
            " max_pooling2d_10 (MaxPoolin  (None, 1, 1, 256)        0         \n",
            " g2D)                                                            \n",
            "                                                                 \n",
            " dropout_10 (Dropout)        (None, 1, 1, 256)         0         \n",
            "                                                                 \n",
            " conv2d_11 (Conv2D)          (None, 1, 1, 256)         590080    \n",
            "                                                                 \n",
            " batch_normalization_11 (Bat  (None, 1, 1, 256)        1024      \n",
            " chNormalization)                                                \n",
            "                                                                 \n",
            " max_pooling2d_11 (MaxPoolin  (None, 1, 1, 256)        0         \n",
            " g2D)                                                            \n",
            "                                                                 \n",
            " dropout_11 (Dropout)        (None, 1, 1, 256)         0         \n",
            "                                                                 \n",
            " flatten (Flatten)           (None, 256)               0         \n",
            "                                                                 \n",
            " dense (Dense)               (None, 128)               32896     \n",
            "                                                                 \n",
            " batch_normalization_12 (Bat  (None, 128)              512       \n",
            " chNormalization)                                                \n",
            "                                                                 \n",
            " dropout_12 (Dropout)        (None, 128)               0         \n",
            "                                                                 \n",
            " dense_1 (Dense)             (None, 6)                 774       \n",
            "                                                                 \n",
            "=================================================================\n",
            "Total params: 3,842,630\n",
            "Trainable params: 3,838,022\n",
            "Non-trainable params: 4,608\n",
            "_________________________________________________________________\n"
          ]
        }
      ],
      "source": [
        "model.summary()"
      ]
    },
    {
      "attachments": {},
      "cell_type": "markdown",
      "metadata": {},
      "source": [
        "## Data Scaling"
      ]
    },
    {
      "cell_type": "code",
      "execution_count": 54,
      "metadata": {},
      "outputs": [
        {
          "name": "stdout",
          "output_type": "stream",
          "text": [
            "Data Generator mean=0.507, std=0.255\n"
          ]
        }
      ],
      "source": [
        "scale_datagen = ImageDataGenerator(featurewise_std_normalization=True,featurewise_center = True)\n",
        "scale_datagen.fit(x_train)\n",
        "print('Data Generator mean=%.3f, std=%.3f' % (scale_datagen.mean, scale_datagen.std))"
      ]
    },
    {
      "cell_type": "code",
      "execution_count": 55,
      "metadata": {},
      "outputs": [],
      "source": [
        "batch_size = 32"
      ]
    },
    {
      "cell_type": "code",
      "execution_count": 56,
      "metadata": {},
      "outputs": [
        {
          "name": "stdout",
          "output_type": "stream",
          "text": [
            "(32, 48, 48, 1) -0.112277545 1.0158148\n"
          ]
        }
      ],
      "source": [
        "valid_iter = scale_datagen.flow(x_valid, y_valid, batch_size=batch_size, shuffle=True)\n",
        "test_iter = scale_datagen.flow(x_test, y_test, batch_size=batch_size, shuffle=True )\n",
        "\n",
        "batchX, batchy = valid_iter.next()\n",
        "print(batchX.shape, batchX.mean(), batchX.std())"
      ]
    },
    {
      "cell_type": "code",
      "execution_count": 57,
      "metadata": {},
      "outputs": [
        {
          "name": "stdout",
          "output_type": "stream",
          "text": [
            "Batches train=111, test=111\n"
          ]
        }
      ],
      "source": [
        "print('Batches train=%d, test=%d' % (len(valid_iter), len(test_iter)))"
      ]
    },
    {
      "attachments": {},
      "cell_type": "markdown",
      "metadata": {},
      "source": [
        "## Data Augmentation"
      ]
    },
    {
      "attachments": {},
      "cell_type": "markdown",
      "metadata": {},
      "source": [
        "can vary minibatch sizes use hyperparmeter schedules \n",
        "\n",
        "vary learning rate with hyperparameter schedules \n",
        "\n",
        "the vision transformer. what is a transformer? token sequences \n",
        "\n",
        "timm hugging face models(pytorch image models)"
      ]
    },
    {
      "cell_type": "code",
      "execution_count": 58,
      "metadata": {},
      "outputs": [],
      "source": [
        "\n",
        "train_datagen = ImageDataGenerator(\n",
        "    rotation_range=0.1,  # randomly rotate images in the range (degrees, 0 to 180)\n",
        "    zoom_range=0.1,  # Randomly zoom image\n",
        "    width_shift_range=0.1,  # randomly shift images horizontally (fraction of total width)\n",
        "    height_shift_range=0.1,  # randomly shift images vertically (fraction of total height)\n",
        "    horizontal_flip=True,  # randomly flip images horizontally\n",
        "    vertical_flip=False, # Don't randomly flip images vertically\n",
        "    featurewise_center = True,\n",
        "    featurewise_std_normalization=True\n",
        "\n",
        "\n",
        "\n",
        ")  "
      ]
    },
    {
      "attachments": {},
      "cell_type": "markdown",
      "metadata": {},
      "source": [
        "## Batch Size "
      ]
    },
    {
      "cell_type": "code",
      "execution_count": 59,
      "metadata": {},
      "outputs": [],
      "source": [
        "# figure out sample weights \n",
        "\n",
        "img_iter = train_datagen.flow(x_train, y_train, batch_size=batch_size)"
      ]
    },
    {
      "cell_type": "code",
      "execution_count": null,
      "metadata": {},
      "outputs": [],
      "source": []
    },
    {
      "attachments": {},
      "cell_type": "markdown",
      "metadata": {},
      "source": [
        "## Fit Data to the Generator "
      ]
    },
    {
      "cell_type": "code",
      "execution_count": 60,
      "metadata": {},
      "outputs": [],
      "source": [
        "train_datagen.fit(x_train) "
      ]
    },
    {
      "cell_type": "code",
      "execution_count": 61,
      "metadata": {},
      "outputs": [
        {
          "data": {
            "image/png": "[encoded data removed]",
            "text/plain": [
              "<Figure size 640x480 with 1 Axes>"
            ]
          },
          "metadata": {},
          "output_type": "display_data"
        },
        {
          "data": {
            "image/png": "[encoded data removed]",
            "text/plain": [
              "<Figure size 640x480 with 1 Axes>"
            ]
          },
          "metadata": {},
          "output_type": "display_data"
        },
        {
          "data": {
            "image/png": "[encoded data removed]",
            "text/plain": [
              "<Figure size 640x480 with 1 Axes>"
            ]
          },
          "metadata": {},
          "output_type": "display_data"
        },
        {
          "data": {
            "image/png": "[encoded data removed]",
            "text/plain": [
              "<Figure size 640x480 with 1 Axes>"
            ]
          },
          "metadata": {},
          "output_type": "display_data"
        },
        {
          "data": {
            "image/png": "[encoded data removed]",
            "text/plain": [
              "<Figure size 640x480 with 1 Axes>"
            ]
          },
          "metadata": {},
          "output_type": "display_data"
        },
        {
          "data": {
            "image/png": "[encoded data removed]",
            "text/plain": [
              "<Figure size 640x480 with 1 Axes>"
            ]
          },
          "metadata": {},
          "output_type": "display_data"
        },
        {
          "data": {
            "image/png": "[encoded data removed]",
            "text/plain": [
              "<Figure size 640x480 with 1 Axes>"
            ]
          },
          "metadata": {},
          "output_type": "display_data"
        },
        {
          "data": {
            "image/png": "[encoded data removed]",
            "text/plain": [
              "<Figure size 640x480 with 1 Axes>"
            ]
          },
          "metadata": {},
          "output_type": "display_data"
        },
        {
          "data": {
            "image/png": "[encoded data removed]",
            "text/plain": [
              "<Figure size 640x480 with 1 Axes>"
            ]
          },
          "metadata": {},
          "output_type": "display_data"
        }
      ],
      "source": [
        "for X_batch, y_batch in train_datagen.flow(x_train, y_train, batch_size=9):\n",
        "    for i in range(0, 9):\n",
        "        plt.subplot(330 + 1 + i)\n",
        "        plt.imshow(X_batch[i].reshape(48, 48, 1),cmap = plt.cm.gray)\n",
        "        plt.show()\n",
        "    break"
      ]
    },
    {
      "cell_type": "code",
      "execution_count": null,
      "metadata": {},
      "outputs": [],
      "source": []
    },
    {
      "cell_type": "code",
      "execution_count": 62,
      "metadata": {},
      "outputs": [],
      "source": [
        "def plot_confusion_matrix(cm, class_names):\n",
        "  \"\"\"\n",
        "  Returns a matplotlib figure containing the plotted confusion matrix.\n",
        "\n",
        "  Args:\n",
        "    cm (array, shape = [n, n]): a confusion matrix of integer classes\n",
        "    class_names (array, shape = [n]): String names of the integer classes\n",
        "  \"\"\"\n",
        "  figure = plt.figure(figsize=(8, 8))\n",
        "  plt.imshow(cm, interpolation='nearest', cmap=plt.cm.Blues)\n",
        "  plt.title(\"Confusion matrix\")\n",
        "  plt.colorbar()\n",
        "  tick_marks = np.arange(len(class_names))\n",
        "  plt.xticks(tick_marks, class_names, rotation=45)\n",
        "  plt.yticks(tick_marks, class_names)\n",
        "\n",
        "  # Compute the labels from the normalized confusion matrix.\n",
        "  labels = np.around(cm.astype('float') / cm.sum(axis=1)[:, np.newaxis], decimals=2)\n",
        "\n",
        "  # Use white text if squares are dark; otherwise black.\n",
        "  threshold = cm.max() / 2.\n",
        "  for i, j in itertools.product(range(cm.shape[0]), range(cm.shape[1])):\n",
        "    color = \"white\" if cm[i, j] > threshold else \"black\"\n",
        "    plt.text(j, i, labels[i, j], horizontalalignment=\"center\", color=color)\n",
        "\n",
        "  plt.tight_layout()\n",
        "  plt.ylabel('True label')\n",
        "  plt.xlabel('Predicted label')\n",
        "  return figure\n"
      ]
    },
    {
      "cell_type": "code",
      "execution_count": 63,
      "metadata": {},
      "outputs": [],
      "source": [
        "def plot_to_image(figure):\n",
        "  \"\"\"Converts the matplotlib plot specified by 'figure' to a PNG image and\n",
        "  returns it. The supplied figure is closed and inaccessible after this call.\"\"\"\n",
        "  # Save the plot to a PNG in memory.\n",
        "  buf = io.BytesIO()\n",
        "  plt.savefig(buf, format='png')\n",
        "  # Closing the figure prevents it from being displayed directly inside\n",
        "  # the notebook.\n",
        "  plt.close(figure)\n",
        "  buf.seek(0)\n",
        "  # Convert PNG buffer to TF image\n",
        "  image = tf.image.decode_png(buf.getvalue(), channels=4)\n",
        "  # Add the batch dimension\n",
        "  image = tf.expand_dims(image, 0)\n",
        "  return image"
      ]
    },
    {
      "cell_type": "code",
      "execution_count": 64,
      "metadata": {},
      "outputs": [],
      "source": [
        "class_names = ['Angry', 'Fear', 'Happy', 'Sad', 'Surprise', 'Neutral']\n",
        "\n",
        "def log_confusion_matrix(epoch, logs):\n",
        "  # Use the model to predict the values from the validation dataset.\n",
        "  test_pred_raw = model.predict(x_valid)\n",
        "  test_pred = np.argmax(test_pred_raw, axis=1)\n",
        "  rounded_y_valid = np.argmax(y_valid, axis=1)\n",
        "\n",
        "  # Calculate the confusion matrix.\n",
        "  cm = sklearn.metrics.confusion_matrix(rounded_y_valid, test_pred)\n",
        "  # Log the confusion matrix as an image summary.\n",
        "  figure = plot_confusion_matrix(cm, class_names=class_names)\n",
        "  cm_image = plot_to_image(figure)\n",
        "\n",
        "  # Log the confusion matrix as an image summary.\n",
        "  with file_writer_cm.as_default():\n",
        "    tf.summary.image(\"Confusion Matrix\", cm_image, step=epoch)\n",
        "\n",
        "# Define the per-epoch callback.\n",
        "cm_callback = keras.callbacks.LambdaCallback(on_epoch_end=log_confusion_matrix)\n"
      ]
    },
    {
      "attachments": {},
      "cell_type": "markdown",
      "metadata": {},
      "source": [
        "## Compile Model"
      ]
    },
    {
      "cell_type": "code",
      "execution_count": 69,
      "metadata": {},
      "outputs": [],
      "source": [
        "model.compile(loss='categorical_crossentropy',optimizer=Adam(learning_rate=.01) ,metrics= Recall())\n",
        "logdir = \"logs/image/\" + datetime.datetime.now().strftime(\"%Y%m%d-%H%M%S\")\n",
        "\n",
        "tensorboard_callback = keras.callbacks.TensorBoard(log_dir=logdir)\n",
        "\n",
        "tensorboard_callback = tf.keras.callbacks.TensorBoard(log_dir=logdir, histogram_freq=1)\n",
        "file_writer_cm = tf.summary.create_file_writer(logdir + '/cm')\n"
      ]
    },
    {
      "cell_type": "code",
      "execution_count": 70,
      "metadata": {},
      "outputs": [
        {
          "data": {
            "text/plain": [
              "Reusing TensorBoard on port 6006 (pid 17804), started 1 day, 3:36:48 ago. (Use '!kill 17804' to kill it.)"
            ]
          },
          "metadata": {},
          "output_type": "display_data"
        },
        {
          "data": {
            "text/html": [
              "\n",
              "      <iframe id=\"tensorboard-frame-54ee8ad49a0e11b8\" width=\"100%\" height=\"800\" frameborder=\"0\">\n",
              "      </iframe>\n",
              "      <script>\n",
              "        (function() {\n",
              "          const frame = document.getElementById(\"tensorboard-frame-54ee8ad49a0e11b8\");\n",
              "          const url = new URL(\"http://localhost\");\n",
              "          const port = 6006;\n",
              "          if (port) {\n",
              "            url.port = port;\n",
              "          }\n",
              "          frame.src = url;\n",
              "        })();\n",
              "      </script>\n",
              "    "
            ],
            "text/plain": [
              "<IPython.core.display.HTML object>"
            ]
          },
          "metadata": {},
          "output_type": "display_data"
        },
        {
          "name": "stdout",
          "output_type": "stream",
          "text": [
            "Epoch 1/200\n",
            "111/111 [==============================] - 1s 7ms/steposs\n",
            "883/883 [==============================] - 27s 28ms/step - loss: 1.7677 - recall_2: 0.0245 - val_loss: 1.5852 - val_recall_2: 0.1353\n",
            "Epoch 2/200\n",
            "111/111 [==============================] - 1s 7ms/stepos\n",
            "883/883 [==============================] - 24s 27ms/step - loss: 1.5097 - recall_2: 0.1614 - val_loss: 1.3550 - val_recall_2: 0.2434\n",
            "Epoch 3/200\n",
            "111/111 [==============================] - 1s 7ms/stepos\n",
            "883/883 [==============================] - 25s 28ms/step - loss: 1.3988 - recall_2: 0.2142 - val_loss: 1.3256 - val_recall_2: 0.2301\n",
            "Epoch 4/200\n",
            "111/111 [==============================] - 1s 7ms/stepos\n",
            "883/883 [==============================] - 26s 29ms/step - loss: 1.3618 - recall_2: 0.2313 - val_loss: 1.2999 - val_recall_2: 0.2467\n",
            "Epoch 5/200\n",
            "111/111 [==============================] - 1s 7ms/stepos\n",
            "883/883 [==============================] - 26s 29ms/step - loss: 1.3289 - recall_2: 0.2552 - val_loss: 1.2363 - val_recall_2: 0.3820\n",
            "Epoch 6/200\n",
            "111/111 [==============================] - 1s 7ms/stepos\n",
            "883/883 [==============================] - 26s 29ms/step - loss: 1.2767 - recall_2: 0.2794 - val_loss: 1.1739 - val_recall_2: 0.3347\n",
            "Epoch 7/200\n",
            "111/111 [==============================] - 1s 7ms/stepos\n",
            "883/883 [==============================] - 24s 28ms/step - loss: 1.2528 - recall_2: 0.3002 - val_loss: 1.2098 - val_recall_2: 0.3226\n",
            "Epoch 8/200\n",
            "111/111 [==============================] - 1s 7ms/stepos\n",
            "883/883 [==============================] - 24s 28ms/step - loss: 1.2278 - recall_2: 0.3186 - val_loss: 1.2724 - val_recall_2: 0.3673\n",
            "Epoch 9/200\n",
            "111/111 [==============================] - 1s 7ms/stepos\n",
            "883/883 [==============================] - 24s 28ms/step - loss: 1.2088 - recall_2: 0.3326 - val_loss: 1.0932 - val_recall_2: 0.4049\n",
            "Epoch 10/200\n",
            "111/111 [==============================] - 1s 7ms/stepos\n",
            "883/883 [==============================] - 25s 28ms/step - loss: 1.1863 - recall_2: 0.3530 - val_loss: 1.1114 - val_recall_2: 0.4655\n",
            "Epoch 11/200\n",
            "111/111 [==============================] - 1s 7ms/stepos\n",
            "883/883 [==============================] - 25s 28ms/step - loss: 1.1611 - recall_2: 0.3715 - val_loss: 1.0256 - val_recall_2: 0.4587\n",
            "Epoch 12/200\n",
            "111/111 [==============================] - 1s 7ms/step\n",
            "883/883 [==============================] - 26s 29ms/step - loss: 1.1402 - recall_2: 0.3879 - val_loss: 1.0322 - val_recall_2: 0.4454\n",
            "Epoch 13/200\n",
            "111/111 [==============================] - 1s 7ms/stepos\n",
            "883/883 [==============================] - 25s 29ms/step - loss: 1.1309 - recall_2: 0.3951 - val_loss: 1.0164 - val_recall_2: 0.4765\n",
            "Epoch 14/200\n",
            "111/111 [==============================] - 1s 7ms/stepos\n",
            "883/883 [==============================] - 25s 28ms/step - loss: 1.1138 - recall_2: 0.4111 - val_loss: 1.0027 - val_recall_2: 0.4808\n",
            "Epoch 15/200\n",
            "111/111 [==============================] - 1s 7ms/stepos\n",
            "883/883 [==============================] - 24s 28ms/step - loss: 1.0964 - recall_2: 0.4264 - val_loss: 1.0371 - val_recall_2: 0.4660\n",
            "Epoch 16/200\n",
            "111/111 [==============================] - 1s 7ms/stepos\n",
            "883/883 [==============================] - 24s 28ms/step - loss: 1.0828 - recall_2: 0.4362 - val_loss: 1.1018 - val_recall_2: 0.5037\n",
            "Epoch 17/200\n",
            "111/111 [==============================] - 1s 7ms/stepos\n",
            "883/883 [==============================] - 25s 28ms/step - loss: 1.0782 - recall_2: 0.4394 - val_loss: 1.0004 - val_recall_2: 0.4958\n",
            "Epoch 18/200\n",
            "111/111 [==============================] - 1s 7ms/stepos\n",
            "883/883 [==============================] - 24s 28ms/step - loss: 1.0636 - recall_2: 0.4494 - val_loss: 1.0073 - val_recall_2: 0.5232\n",
            "Epoch 19/200\n",
            "111/111 [==============================] - 1s 7ms/stepos\n",
            "883/883 [==============================] - 25s 28ms/step - loss: 1.0492 - recall_2: 0.4617 - val_loss: 1.0070 - val_recall_2: 0.4816\n",
            "Epoch 20/200\n",
            "111/111 [==============================] - 1s 7ms/stepos\n",
            "883/883 [==============================] - 25s 28ms/step - loss: 1.0352 - recall_2: 0.4677 - val_loss: 1.0131 - val_recall_2: 0.5306\n",
            "Epoch 21/200\n",
            "111/111 [==============================] - 1s 7ms/stepos\n",
            "883/883 [==============================] - 26s 29ms/step - loss: 1.0304 - recall_2: 0.4749 - val_loss: 0.9506 - val_recall_2: 0.5331\n",
            "Epoch 22/200\n",
            "111/111 [==============================] - 1s 7ms/stepos\n",
            "883/883 [==============================] - 27s 31ms/step - loss: 1.0153 - recall_2: 0.4846 - val_loss: 0.9343 - val_recall_2: 0.5538\n",
            "Epoch 23/200\n",
            "111/111 [==============================] - 1s 7ms/stepos\n",
            "883/883 [==============================] - 26s 29ms/step - loss: 1.0200 - recall_2: 0.4825 - val_loss: 0.9293 - val_recall_2: 0.5331\n",
            "Epoch 24/200\n",
            "111/111 [==============================] - 1s 7ms/stepos\n",
            "883/883 [==============================] - 26s 29ms/step - loss: 1.0080 - recall_2: 0.4891 - val_loss: 0.9295 - val_recall_2: 0.4955\n",
            "Epoch 25/200\n",
            "111/111 [==============================] - 1s 7ms/stepos\n",
            "883/883 [==============================] - 25s 29ms/step - loss: 1.0001 - recall_2: 0.4945 - val_loss: 0.9346 - val_recall_2: 0.5529\n",
            "Epoch 26/200\n",
            "111/111 [==============================] - 1s 7ms/stepos\n",
            "883/883 [==============================] - 26s 29ms/step - loss: 0.9902 - recall_2: 0.5015 - val_loss: 0.9657 - val_recall_2: 0.4935\n",
            "Epoch 27/200\n",
            "111/111 [==============================] - 1s 7ms/step\n",
            "883/883 [==============================] - 26s 30ms/step - loss: 0.9841 - recall_2: 0.5055 - val_loss: 0.9379 - val_recall_2: 0.5656\n",
            "Epoch 28/200\n",
            "111/111 [==============================] - 1s 7ms/step\n",
            "883/883 [==============================] - 26s 29ms/step - loss: 0.9822 - recall_2: 0.5079 - val_loss: 0.9457 - val_recall_2: 0.5354\n",
            "Epoch 29/200\n",
            "111/111 [==============================] - 1s 7ms/stepos\n",
            "883/883 [==============================] - 26s 29ms/step - loss: 0.9679 - recall_2: 0.5176 - val_loss: 0.9202 - val_recall_2: 0.5665\n",
            "Epoch 30/200\n",
            "111/111 [==============================] - 1s 7ms/stepos\n",
            "883/883 [==============================] - 26s 29ms/step - loss: 0.9653 - recall_2: 0.5167 - val_loss: 0.9509 - val_recall_2: 0.5665\n",
            "Epoch 31/200\n",
            "111/111 [==============================] - 1s 7ms/stepos\n",
            "883/883 [==============================] - 26s 29ms/step - loss: 0.9485 - recall_2: 0.5333 - val_loss: 0.9481 - val_recall_2: 0.5640\n",
            "Epoch 32/200\n",
            "111/111 [==============================] - 1s 7ms/step\n",
            "883/883 [==============================] - 26s 29ms/step - loss: 0.9596 - recall_2: 0.5239 - val_loss: 0.9223 - val_recall_2: 0.5620\n",
            "Epoch 33/200\n",
            "111/111 [==============================] - 1s 7ms/step\n",
            "883/883 [==============================] - 26s 29ms/step - loss: 0.9532 - recall_2: 0.5270 - val_loss: 0.9545 - val_recall_2: 0.5934\n",
            "Epoch 34/200\n",
            "111/111 [==============================] - 1s 7ms/stepos\n",
            "883/883 [==============================] - 26s 29ms/step - loss: 0.9427 - recall_2: 0.5316 - val_loss: 0.8953 - val_recall_2: 0.5823\n",
            "Epoch 35/200\n",
            "111/111 [==============================] - 1s 7ms/stepos\n",
            "883/883 [==============================] - 26s 30ms/step - loss: 0.9379 - recall_2: 0.5348 - val_loss: 0.9207 - val_recall_2: 0.5756\n",
            "Epoch 36/200\n",
            "111/111 [==============================] - 1s 7ms/stepos\n",
            "883/883 [==============================] - 26s 29ms/step - loss: 0.9326 - recall_2: 0.5403 - val_loss: 0.9263 - val_recall_2: 0.5566\n",
            "Epoch 37/200\n",
            "111/111 [==============================] - 1s 7ms/stepos\n",
            "883/883 [==============================] - 26s 29ms/step - loss: 0.9316 - recall_2: 0.5416 - val_loss: 0.8957 - val_recall_2: 0.5951\n",
            "Epoch 38/200\n",
            "111/111 [==============================] - 1s 7ms/stepos\n",
            "883/883 [==============================] - 25s 29ms/step - loss: 0.9308 - recall_2: 0.5427 - val_loss: 0.9034 - val_recall_2: 0.5671\n",
            "Epoch 39/200\n",
            "111/111 [==============================] - 1s 7ms/stepos\n",
            "883/883 [==============================] - 26s 29ms/step - loss: 0.9199 - recall_2: 0.5497 - val_loss: 0.9075 - val_recall_2: 0.5973\n",
            "Epoch 40/200\n",
            "111/111 [==============================] - 1s 7ms/stepos\n",
            "883/883 [==============================] - 26s 29ms/step - loss: 0.9121 - recall_2: 0.5511 - val_loss: 0.9125 - val_recall_2: 0.5886\n",
            "Epoch 41/200\n",
            "111/111 [==============================] - 1s 7ms/stepos\n",
            "883/883 [==============================] - 26s 29ms/step - loss: 0.9098 - recall_2: 0.5546 - val_loss: 0.8884 - val_recall_2: 0.5849\n",
            "Epoch 42/200\n",
            "111/111 [==============================] - 1s 7ms/step\n",
            "883/883 [==============================] - 27s 31ms/step - loss: 0.9110 - recall_2: 0.5551 - val_loss: 0.8887 - val_recall_2: 0.6041\n",
            "Epoch 43/200\n",
            "111/111 [==============================] - 1s 7ms/stepos\n",
            "883/883 [==============================] - 27s 30ms/step - loss: 0.9031 - recall_2: 0.5616 - val_loss: 0.9283 - val_recall_2: 0.5945\n",
            "Epoch 44/200\n",
            "111/111 [==============================] - 1s 7ms/step\n",
            "883/883 [==============================] - 27s 30ms/step - loss: 0.8958 - recall_2: 0.5682 - val_loss: 0.9118 - val_recall_2: 0.5954\n",
            "Epoch 45/200\n",
            "111/111 [==============================] - 1s 7ms/step\n",
            "883/883 [==============================] - 27s 30ms/step - loss: 0.9006 - recall_2: 0.5618 - val_loss: 0.8781 - val_recall_2: 0.5934\n",
            "Epoch 46/200\n",
            "111/111 [==============================] - 1s 7ms/stepos\n",
            "883/883 [==============================] - 26s 29ms/step - loss: 0.8888 - recall_2: 0.5670 - val_loss: 0.9210 - val_recall_2: 0.5764\n",
            "Epoch 47/200\n",
            "111/111 [==============================] - 1s 7ms/step\n",
            "883/883 [==============================] - 26s 29ms/step - loss: 0.8928 - recall_2: 0.5647 - val_loss: 0.8551 - val_recall_2: 0.6047\n",
            "Epoch 48/200\n",
            "111/111 [==============================] - 1s 7ms/step\n",
            "883/883 [==============================] - 26s 29ms/step - loss: 0.8788 - recall_2: 0.5732 - val_loss: 0.9727 - val_recall_2: 0.5722\n",
            "Epoch 49/200\n",
            "111/111 [==============================] - 1s 7ms/stepos\n",
            "883/883 [==============================] - 25s 29ms/step - loss: 0.8779 - recall_2: 0.5693 - val_loss: 0.9163 - val_recall_2: 0.5722\n",
            "Epoch 50/200\n",
            "111/111 [==============================] - 1s 7ms/stepos\n",
            "883/883 [==============================] - 26s 30ms/step - loss: 0.8674 - recall_2: 0.5781 - val_loss: 0.9238 - val_recall_2: 0.5702\n",
            "Epoch 51/200\n",
            "111/111 [==============================] - 1s 7ms/stepos\n",
            "883/883 [==============================] - 25s 28ms/step - loss: 0.8672 - recall_2: 0.5795 - val_loss: 0.9174 - val_recall_2: 0.5857\n",
            "Epoch 52/200\n",
            "111/111 [==============================] - 1s 7ms/stepos\n",
            "883/883 [==============================] - 25s 28ms/step - loss: 0.8624 - recall_2: 0.5867 - val_loss: 0.8700 - val_recall_2: 0.5860\n",
            "Epoch 53/200\n",
            "111/111 [==============================] - 1s 7ms/stepos\n",
            "883/883 [==============================] - 25s 28ms/step - loss: 0.8564 - recall_2: 0.5922 - val_loss: 0.8726 - val_recall_2: 0.5962\n",
            "Epoch 54/200\n",
            "111/111 [==============================] - 1s 7ms/stepos\n",
            "883/883 [==============================] - 25s 28ms/step - loss: 0.8650 - recall_2: 0.5833 - val_loss: 0.8696 - val_recall_2: 0.6002\n",
            "Epoch 55/200\n",
            "111/111 [==============================] - 1s 8ms/step\n",
            "883/883 [==============================] - 25s 29ms/step - loss: 0.8568 - recall_2: 0.5885 - val_loss: 0.8742 - val_recall_2: 0.6098\n",
            "Epoch 56/200\n",
            "111/111 [==============================] - 1s 7ms/stepos\n",
            "883/883 [==============================] - 26s 29ms/step - loss: 0.8546 - recall_2: 0.5893 - val_loss: 0.8964 - val_recall_2: 0.5886\n",
            "Epoch 57/200\n",
            "111/111 [==============================] - 1s 7ms/step\n",
            "883/883 [==============================] - 26s 29ms/step - loss: 0.8515 - recall_2: 0.5920 - val_loss: 0.8641 - val_recall_2: 0.6036\n",
            "Epoch 58/200\n",
            "111/111 [==============================] - 1s 7ms/stepos\n",
            "883/883 [==============================] - 26s 29ms/step - loss: 0.8502 - recall_2: 0.5937 - val_loss: 0.8730 - val_recall_2: 0.6171\n",
            "Epoch 59/200\n",
            "111/111 [==============================] - 1s 7ms/stepos\n",
            "883/883 [==============================] - 25s 29ms/step - loss: 0.8454 - recall_2: 0.5957 - val_loss: 0.8818 - val_recall_2: 0.6299\n",
            "Epoch 60/200\n",
            "111/111 [==============================] - 1s 7ms/stepos\n",
            "883/883 [==============================] - 26s 29ms/step - loss: 0.8424 - recall_2: 0.5979 - val_loss: 0.8878 - val_recall_2: 0.5939\n",
            "Epoch 61/200\n",
            "111/111 [==============================] - 1s 7ms/stepos\n",
            "883/883 [==============================] - 25s 29ms/step - loss: 0.8332 - recall_2: 0.6032 - val_loss: 0.8740 - val_recall_2: 0.6200\n",
            "Epoch 62/200\n",
            "111/111 [==============================] - 1s 7ms/stepos\n",
            "883/883 [==============================] - 25s 29ms/step - loss: 0.8332 - recall_2: 0.6045 - val_loss: 0.9064 - val_recall_2: 0.6030\n",
            "Epoch 63/200\n",
            "111/111 [==============================] - 1s 7ms/step\n",
            "883/883 [==============================] - 26s 29ms/step - loss: 0.8322 - recall_2: 0.6083 - val_loss: 0.8792 - val_recall_2: 0.5939\n",
            "Epoch 64/200\n",
            "111/111 [==============================] - 1s 7ms/stepos\n",
            "883/883 [==============================] - 25s 29ms/step - loss: 0.8272 - recall_2: 0.6082 - val_loss: 0.8709 - val_recall_2: 0.6290\n",
            "Epoch 65/200\n",
            "111/111 [==============================] - 1s 7ms/stepos\n",
            "883/883 [==============================] - 25s 29ms/step - loss: 0.8276 - recall_2: 0.6076 - val_loss: 0.8952 - val_recall_2: 0.5985\n",
            "Epoch 66/200\n",
            "111/111 [==============================] - 1s 7ms/stepos\n",
            "883/883 [==============================] - 25s 29ms/step - loss: 0.8205 - recall_2: 0.6117 - val_loss: 0.8615 - val_recall_2: 0.6166\n",
            "Epoch 67/200\n",
            "111/111 [==============================] - 1s 7ms/stepos\n",
            "883/883 [==============================] - 25s 28ms/step - loss: 0.8206 - recall_2: 0.6101 - val_loss: 0.8904 - val_recall_2: 0.6149\n",
            "Epoch 68/200\n",
            "111/111 [==============================] - 1s 7ms/stepos\n",
            "883/883 [==============================] - 25s 28ms/step - loss: 0.8077 - recall_2: 0.6166 - val_loss: 0.8755 - val_recall_2: 0.6234\n",
            "Epoch 69/200\n",
            "111/111 [==============================] - 1s 7ms/stepos\n",
            "883/883 [==============================] - 25s 28ms/step - loss: 0.8187 - recall_2: 0.6169 - val_loss: 0.8632 - val_recall_2: 0.6149\n",
            "Epoch 70/200\n",
            "111/111 [==============================] - 1s 7ms/stepos\n",
            "883/883 [==============================] - 25s 28ms/step - loss: 0.8085 - recall_2: 0.6174 - val_loss: 0.9058 - val_recall_2: 0.6188\n",
            "Epoch 71/200\n",
            "111/111 [==============================] - 1s 7ms/step\n",
            "883/883 [==============================] - 25s 28ms/step - loss: 0.8077 - recall_2: 0.6172 - val_loss: 0.8615 - val_recall_2: 0.6061\n",
            "Epoch 72/200\n",
            "111/111 [==============================] - 1s 7ms/stepos\n",
            "883/883 [==============================] - 26s 29ms/step - loss: 0.8062 - recall_2: 0.6194 - val_loss: 0.8629 - val_recall_2: 0.6203\n",
            "Epoch 73/200\n",
            "111/111 [==============================] - 1s 7ms/stepos\n",
            "883/883 [==============================] - 26s 29ms/step - loss: 0.8056 - recall_2: 0.6235 - val_loss: 0.8598 - val_recall_2: 0.6251\n",
            "Epoch 74/200\n",
            "111/111 [==============================] - 1s 7ms/stepos\n",
            "883/883 [==============================] - 26s 29ms/step - loss: 0.7999 - recall_2: 0.6243 - val_loss: 0.9074 - val_recall_2: 0.6121\n",
            "Epoch 75/200\n",
            "111/111 [==============================] - 1s 7ms/stepos\n",
            "883/883 [==============================] - 26s 29ms/step - loss: 0.7889 - recall_2: 0.6314 - val_loss: 0.8456 - val_recall_2: 0.6268\n",
            "Epoch 76/200\n",
            "111/111 [==============================] - 1s 7ms/step\n",
            "883/883 [==============================] - 26s 30ms/step - loss: 0.7911 - recall_2: 0.6285 - val_loss: 0.8597 - val_recall_2: 0.6177\n",
            "Epoch 77/200\n",
            "111/111 [==============================] - 1s 7ms/stepos\n",
            "883/883 [==============================] - 27s 31ms/step - loss: 0.7958 - recall_2: 0.6270 - val_loss: 0.8811 - val_recall_2: 0.6327\n",
            "Epoch 78/200\n",
            "111/111 [==============================] - 1s 7ms/step\n",
            "883/883 [==============================] - 26s 29ms/step - loss: 0.7836 - recall_2: 0.6338 - val_loss: 0.8419 - val_recall_2: 0.6265\n",
            "Epoch 79/200\n",
            "111/111 [==============================] - 1s 7ms/stepos\n",
            "883/883 [==============================] - 26s 29ms/step - loss: 0.7864 - recall_2: 0.6351 - val_loss: 0.9054 - val_recall_2: 0.5954\n",
            "Epoch 80/200\n",
            "111/111 [==============================] - 1s 7ms/stepos\n",
            "883/883 [==============================] - 26s 29ms/step - loss: 0.7902 - recall_2: 0.6304 - val_loss: 0.8730 - val_recall_2: 0.6078\n",
            "Epoch 81/200\n",
            "111/111 [==============================] - 1s 7ms/stepos\n",
            "883/883 [==============================] - 26s 29ms/step - loss: 0.7858 - recall_2: 0.6357 - val_loss: 0.9004 - val_recall_2: 0.6282\n",
            "Epoch 82/200\n",
            "111/111 [==============================] - 1s 7ms/stepos\n",
            "883/883 [==============================] - 26s 29ms/step - loss: 0.7746 - recall_2: 0.6385 - val_loss: 0.8708 - val_recall_2: 0.6140\n",
            "Epoch 83/200\n",
            "111/111 [==============================] - 1s 7ms/step\n",
            "883/883 [==============================] - 26s 29ms/step - loss: 0.7764 - recall_2: 0.6433 - val_loss: 0.8559 - val_recall_2: 0.5928\n",
            "Epoch 84/200\n",
            "111/111 [==============================] - 1s 7ms/step\n",
            "883/883 [==============================] - 26s 30ms/step - loss: 0.7808 - recall_2: 0.6367 - val_loss: 0.9372 - val_recall_2: 0.6310\n",
            "Epoch 85/200\n",
            "111/111 [==============================] - 1s 7ms/stepos\n",
            "883/883 [==============================] - 26s 29ms/step - loss: 0.7734 - recall_2: 0.6421 - val_loss: 0.8757 - val_recall_2: 0.6290\n",
            "Epoch 86/200\n",
            "111/111 [==============================] - 1s 7ms/stepos\n",
            "883/883 [==============================] - 25s 29ms/step - loss: 0.7724 - recall_2: 0.6443 - val_loss: 0.8691 - val_recall_2: 0.6180\n",
            "Epoch 87/200\n",
            "111/111 [==============================] - 1s 7ms/stepos\n",
            "883/883 [==============================] - 25s 28ms/step - loss: 0.7649 - recall_2: 0.6462 - val_loss: 0.8965 - val_recall_2: 0.6143\n",
            "Epoch 88/200\n",
            "111/111 [==============================] - 1s 7ms/stepos\n",
            "883/883 [==============================] - 25s 29ms/step - loss: 0.7668 - recall_2: 0.6466 - val_loss: 0.9055 - val_recall_2: 0.6143\n",
            "Epoch 89/200\n",
            "111/111 [==============================] - 1s 7ms/step\n",
            "883/883 [==============================] - 25s 28ms/step - loss: 0.7591 - recall_2: 0.6466 - val_loss: 0.8635 - val_recall_2: 0.6321\n",
            "Epoch 90/200\n",
            "111/111 [==============================] - 1s 7ms/stepos\n",
            "883/883 [==============================] - 25s 28ms/step - loss: 0.7584 - recall_2: 0.6503 - val_loss: 0.8587 - val_recall_2: 0.6089\n",
            "Epoch 91/200\n",
            "111/111 [==============================] - 1s 7ms/stepos\n",
            "883/883 [==============================] - 25s 28ms/step - loss: 0.7538 - recall_2: 0.6499 - val_loss: 0.9099 - val_recall_2: 0.6415\n",
            "Epoch 92/200\n",
            "111/111 [==============================] - 1s 7ms/stepos\n",
            "883/883 [==============================] - 25s 29ms/step - loss: 0.7646 - recall_2: 0.6506 - val_loss: 0.9021 - val_recall_2: 0.6319\n",
            "Epoch 93/200\n",
            "111/111 [==============================] - 1s 7ms/stepos\n",
            "883/883 [==============================] - 25s 28ms/step - loss: 0.7601 - recall_2: 0.6496 - val_loss: 0.8646 - val_recall_2: 0.6443\n",
            "Epoch 94/200\n",
            "111/111 [==============================] - 1s 7ms/stepos\n",
            "883/883 [==============================] - 25s 28ms/step - loss: 0.7510 - recall_2: 0.6578 - val_loss: 0.8819 - val_recall_2: 0.6324\n",
            "Epoch 95/200\n",
            "111/111 [==============================] - 1s 7ms/stepos\n",
            "883/883 [==============================] - 25s 28ms/step - loss: 0.7459 - recall_2: 0.6551 - val_loss: 0.8922 - val_recall_2: 0.6418\n",
            "Epoch 96/200\n",
            "111/111 [==============================] - 1s 7ms/stepos\n",
            "883/883 [==============================] - 25s 28ms/step - loss: 0.7488 - recall_2: 0.6555 - val_loss: 0.8951 - val_recall_2: 0.6259\n",
            "Epoch 97/200\n",
            "111/111 [==============================] - 1s 7ms/stepos\n",
            "883/883 [==============================] - 25s 28ms/step - loss: 0.7425 - recall_2: 0.6611 - val_loss: 0.8975 - val_recall_2: 0.6426\n",
            "Epoch 98/200\n",
            "111/111 [==============================] - 1s 7ms/stepos\n",
            "883/883 [==============================] - 25s 28ms/step - loss: 0.7416 - recall_2: 0.6645 - val_loss: 0.8861 - val_recall_2: 0.6138\n",
            "Epoch 99/200\n",
            "111/111 [==============================] - 1s 7ms/stepos\n",
            "883/883 [==============================] - 25s 28ms/step - loss: 0.7372 - recall_2: 0.6641 - val_loss: 0.8867 - val_recall_2: 0.6282\n",
            "Epoch 100/200\n",
            "111/111 [==============================] - 1s 7ms/stepos\n",
            "883/883 [==============================] - 25s 28ms/step - loss: 0.7343 - recall_2: 0.6605 - val_loss: 0.8697 - val_recall_2: 0.6242\n",
            "Epoch 101/200\n",
            "111/111 [==============================] - 1s 7ms/stepos\n",
            "883/883 [==============================] - 25s 28ms/step - loss: 0.7315 - recall_2: 0.6638 - val_loss: 0.9081 - val_recall_2: 0.6333\n",
            "Epoch 102/200\n",
            "111/111 [==============================] - 1s 7ms/stepos\n",
            "883/883 [==============================] - 25s 28ms/step - loss: 0.7279 - recall_2: 0.6681 - val_loss: 0.9199 - val_recall_2: 0.6517\n",
            "Epoch 103/200\n",
            "111/111 [==============================] - 1s 7ms/stepos\n",
            "883/883 [==============================] - 25s 28ms/step - loss: 0.7357 - recall_2: 0.6628 - val_loss: 0.8816 - val_recall_2: 0.6435\n",
            "Epoch 104/200\n",
            "111/111 [==============================] - 1s 7ms/stepos\n",
            "883/883 [==============================] - 25s 29ms/step - loss: 0.7286 - recall_2: 0.6672 - val_loss: 0.8829 - val_recall_2: 0.6503\n",
            "Epoch 105/200\n",
            "111/111 [==============================] - 1s 7ms/stepos\n",
            "883/883 [==============================] - 25s 28ms/step - loss: 0.7201 - recall_2: 0.6715 - val_loss: 0.9196 - val_recall_2: 0.6324\n",
            "Epoch 106/200\n",
            "111/111 [==============================] - 1s 7ms/stepos\n",
            "883/883 [==============================] - 25s 28ms/step - loss: 0.7250 - recall_2: 0.6712 - val_loss: 0.8937 - val_recall_2: 0.6375\n",
            "Epoch 107/200\n",
            "111/111 [==============================] - 1s 7ms/stepos\n",
            "883/883 [==============================] - 25s 28ms/step - loss: 0.7234 - recall_2: 0.6670 - val_loss: 0.8657 - val_recall_2: 0.6157\n",
            "Epoch 108/200\n",
            "111/111 [==============================] - 1s 7ms/stepos\n",
            "883/883 [==============================] - 25s 29ms/step - loss: 0.7219 - recall_2: 0.6717 - val_loss: 0.9132 - val_recall_2: 0.6565\n",
            "Epoch 109/200\n",
            "111/111 [==============================] - 1s 7ms/stepos\n",
            "883/883 [==============================] - 25s 28ms/step - loss: 0.7260 - recall_2: 0.6689 - val_loss: 0.8921 - val_recall_2: 0.6401\n",
            "Epoch 110/200\n",
            "111/111 [==============================] - 1s 7ms/stepos\n",
            "883/883 [==============================] - 25s 28ms/step - loss: 0.7119 - recall_2: 0.6769 - val_loss: 0.8567 - val_recall_2: 0.6324\n",
            "Epoch 111/200\n",
            "111/111 [==============================] - 1s 7ms/stepos\n",
            "883/883 [==============================] - 25s 28ms/step - loss: 0.7133 - recall_2: 0.6759 - val_loss: 0.8907 - val_recall_2: 0.6457\n",
            "Epoch 112/200\n",
            "111/111 [==============================] - 1s 7ms/stepos\n",
            "883/883 [==============================] - 25s 28ms/step - loss: 0.7189 - recall_2: 0.6722 - val_loss: 0.8903 - val_recall_2: 0.6307\n",
            "Epoch 113/200\n",
            "111/111 [==============================] - 1s 7ms/stepos\n",
            "883/883 [==============================] - 25s 28ms/step - loss: 0.7102 - recall_2: 0.6778 - val_loss: 0.9435 - val_recall_2: 0.6418\n",
            "Epoch 114/200\n",
            "111/111 [==============================] - 1s 7ms/stepos\n",
            "883/883 [==============================] - 25s 28ms/step - loss: 0.7166 - recall_2: 0.6750 - val_loss: 0.8934 - val_recall_2: 0.6412\n",
            "Epoch 115/200\n",
            "111/111 [==============================] - 1s 7ms/stepos\n",
            "883/883 [==============================] - 25s 28ms/step - loss: 0.7102 - recall_2: 0.6769 - val_loss: 0.9358 - val_recall_2: 0.6324\n",
            "Epoch 116/200\n",
            "111/111 [==============================] - 1s 7ms/stepos\n",
            "883/883 [==============================] - 25s 28ms/step - loss: 0.7079 - recall_2: 0.6786 - val_loss: 0.8658 - val_recall_2: 0.6355\n",
            "Epoch 117/200\n",
            "111/111 [==============================] - 1s 7ms/stepos\n",
            "883/883 [==============================] - 25s 28ms/step - loss: 0.6995 - recall_2: 0.6840 - val_loss: 0.9129 - val_recall_2: 0.6330\n",
            "Epoch 118/200\n",
            "111/111 [==============================] - 1s 7ms/stepos\n",
            "883/883 [==============================] - 25s 28ms/step - loss: 0.7043 - recall_2: 0.6840 - val_loss: 0.8907 - val_recall_2: 0.6531\n",
            "Epoch 119/200\n",
            "111/111 [==============================] - 1s 7ms/stepos\n",
            "883/883 [==============================] - 25s 28ms/step - loss: 0.7051 - recall_2: 0.6819 - val_loss: 0.8696 - val_recall_2: 0.6338\n",
            "Epoch 120/200\n",
            "111/111 [==============================] - 1s 7ms/stepos\n",
            "883/883 [==============================] - 25s 28ms/step - loss: 0.7008 - recall_2: 0.6817 - val_loss: 0.8681 - val_recall_2: 0.6319\n",
            "Epoch 121/200\n",
            "111/111 [==============================] - 1s 7ms/stepos\n",
            "883/883 [==============================] - 25s 28ms/step - loss: 0.6943 - recall_2: 0.6847 - val_loss: 0.8642 - val_recall_2: 0.6423\n",
            "Epoch 122/200\n",
            "111/111 [==============================] - 1s 7ms/stepos\n",
            "883/883 [==============================] - 25s 29ms/step - loss: 0.6967 - recall_2: 0.6869 - val_loss: 0.8912 - val_recall_2: 0.6559\n",
            "Epoch 123/200\n",
            "111/111 [==============================] - 1s 7ms/stepos\n",
            "883/883 [==============================] - 26s 29ms/step - loss: 0.6925 - recall_2: 0.6898 - val_loss: 0.9009 - val_recall_2: 0.6338\n",
            "Epoch 124/200\n",
            "111/111 [==============================] - 1s 7ms/stepos\n",
            "883/883 [==============================] - 25s 28ms/step - loss: 0.6985 - recall_2: 0.6850 - val_loss: 0.8770 - val_recall_2: 0.6265\n",
            "Epoch 125/200\n",
            "111/111 [==============================] - 1s 7ms/stepos\n",
            "883/883 [==============================] - 25s 28ms/step - loss: 0.6924 - recall_2: 0.6878 - val_loss: 0.9045 - val_recall_2: 0.6423\n",
            "Epoch 126/200\n",
            "111/111 [==============================] - 1s 7ms/stepos\n",
            "883/883 [==============================] - 25s 28ms/step - loss: 0.6866 - recall_2: 0.6925 - val_loss: 0.8718 - val_recall_2: 0.6401\n",
            "Epoch 127/200\n",
            "111/111 [==============================] - 1s 7ms/stepos\n",
            "883/883 [==============================] - 25s 28ms/step - loss: 0.6902 - recall_2: 0.6889 - val_loss: 0.8449 - val_recall_2: 0.6347\n",
            "Epoch 128/200\n",
            "111/111 [==============================] - 1s 7ms/stepos\n",
            "883/883 [==============================] - 25s 28ms/step - loss: 0.6857 - recall_2: 0.6920 - val_loss: 0.8661 - val_recall_2: 0.6471\n",
            "Epoch 129/200\n",
            "111/111 [==============================] - 1s 7ms/stepos\n",
            "883/883 [==============================] - 25s 28ms/step - loss: 0.6845 - recall_2: 0.6936 - val_loss: 0.8847 - val_recall_2: 0.6338\n",
            "Epoch 130/200\n",
            "111/111 [==============================] - 1s 7ms/stepos\n",
            "883/883 [==============================] - 25s 28ms/step - loss: 0.6733 - recall_2: 0.6968 - val_loss: 0.8647 - val_recall_2: 0.6466\n",
            "Epoch 131/200\n",
            "111/111 [==============================] - 1s 7ms/stepos\n",
            "883/883 [==============================] - 25s 28ms/step - loss: 0.6793 - recall_2: 0.6953 - val_loss: 0.9038 - val_recall_2: 0.6483\n",
            "Epoch 132/200\n",
            "111/111 [==============================] - 1s 7ms/stepos\n",
            "883/883 [==============================] - 25s 28ms/step - loss: 0.6761 - recall_2: 0.6967 - val_loss: 0.8500 - val_recall_2: 0.6361\n",
            "Epoch 133/200\n",
            "111/111 [==============================] - 1s 7ms/stepos\n",
            "883/883 [==============================] - 25s 28ms/step - loss: 0.6760 - recall_2: 0.6958 - val_loss: 0.9183 - val_recall_2: 0.6406\n",
            "Epoch 134/200\n",
            "111/111 [==============================] - 1s 7ms/stepos\n",
            "883/883 [==============================] - 25s 28ms/step - loss: 0.6711 - recall_2: 0.6976 - val_loss: 0.9202 - val_recall_2: 0.6231\n",
            "Epoch 135/200\n",
            "111/111 [==============================] - 1s 7ms/stepos\n",
            "883/883 [==============================] - 25s 28ms/step - loss: 0.6697 - recall_2: 0.6988 - val_loss: 0.8854 - val_recall_2: 0.6528\n",
            "Epoch 136/200\n",
            "111/111 [==============================] - 1s 7ms/stepos\n",
            "883/883 [==============================] - 25s 28ms/step - loss: 0.6736 - recall_2: 0.6974 - val_loss: 0.8845 - val_recall_2: 0.6319\n",
            "Epoch 137/200\n",
            "111/111 [==============================] - 1s 7ms/stepos\n",
            "883/883 [==============================] - 25s 28ms/step - loss: 0.6641 - recall_2: 0.7045 - val_loss: 0.8916 - val_recall_2: 0.6545\n",
            "Epoch 138/200\n",
            "111/111 [==============================] - 1s 7ms/stepos\n",
            "883/883 [==============================] - 25s 28ms/step - loss: 0.6652 - recall_2: 0.7052 - val_loss: 0.9455 - val_recall_2: 0.6537\n",
            "Epoch 139/200\n",
            "111/111 [==============================] - 1s 7ms/stepos\n",
            "883/883 [==============================] - 25s 28ms/step - loss: 0.6722 - recall_2: 0.6989 - val_loss: 0.8756 - val_recall_2: 0.6237\n",
            "Epoch 140/200\n",
            "111/111 [==============================] - 1s 7ms/stepos\n",
            "883/883 [==============================] - 25s 28ms/step - loss: 0.6656 - recall_2: 0.7020 - val_loss: 0.9152 - val_recall_2: 0.6392\n",
            "Epoch 141/200\n",
            "111/111 [==============================] - 1s 7ms/stepos\n",
            "883/883 [==============================] - 25s 28ms/step - loss: 0.6605 - recall_2: 0.7060 - val_loss: 0.9377 - val_recall_2: 0.6231\n",
            "Epoch 142/200\n",
            "111/111 [==============================] - 1s 7ms/stepos\n",
            "883/883 [==============================] - 25s 28ms/step - loss: 0.6586 - recall_2: 0.7082 - val_loss: 0.9053 - val_recall_2: 0.6545\n",
            "Epoch 143/200\n",
            "111/111 [==============================] - 1s 7ms/stepos\n",
            "883/883 [==============================] - 25s 28ms/step - loss: 0.6579 - recall_2: 0.7075 - val_loss: 0.9305 - val_recall_2: 0.6508\n",
            "Epoch 144/200\n",
            "111/111 [==============================] - 1s 7ms/stepos\n",
            "883/883 [==============================] - 25s 28ms/step - loss: 0.6612 - recall_2: 0.7051 - val_loss: 0.9140 - val_recall_2: 0.6358\n",
            "Epoch 145/200\n",
            "111/111 [==============================] - 1s 7ms/stepos\n",
            "883/883 [==============================] - 25s 28ms/step - loss: 0.6530 - recall_2: 0.7121 - val_loss: 0.8877 - val_recall_2: 0.6353\n",
            "Epoch 146/200\n",
            "111/111 [==============================] - 1s 7ms/stepos\n",
            "883/883 [==============================] - 25s 28ms/step - loss: 0.6593 - recall_2: 0.7063 - val_loss: 0.9399 - val_recall_2: 0.6347\n",
            "Epoch 147/200\n",
            "111/111 [==============================] - 1s 7ms/stepos\n",
            "883/883 [==============================] - 25s 28ms/step - loss: 0.6630 - recall_2: 0.7054 - val_loss: 0.8877 - val_recall_2: 0.6534\n",
            "Epoch 148/200\n",
            "111/111 [==============================] - 1s 7ms/stepos\n",
            "883/883 [==============================] - 25s 28ms/step - loss: 0.6538 - recall_2: 0.7098 - val_loss: 0.8651 - val_recall_2: 0.6375\n",
            "Epoch 149/200\n",
            "111/111 [==============================] - 1s 7ms/stepos\n",
            "883/883 [==============================] - 25s 28ms/step - loss: 0.6461 - recall_2: 0.7123 - val_loss: 0.9383 - val_recall_2: 0.6440\n",
            "Epoch 150/200\n",
            "111/111 [==============================] - 1s 7ms/stepos\n",
            "883/883 [==============================] - 25s 28ms/step - loss: 0.6510 - recall_2: 0.7124 - val_loss: 0.8934 - val_recall_2: 0.6401\n",
            "Epoch 151/200\n",
            "111/111 [==============================] - 1s 7ms/step\n",
            "883/883 [==============================] - 26s 29ms/step - loss: 0.6434 - recall_2: 0.7132 - val_loss: 0.8964 - val_recall_2: 0.6242\n",
            "Epoch 152/200\n",
            "111/111 [==============================] - 1s 7ms/step\n",
            "883/883 [==============================] - 26s 29ms/step - loss: 0.6435 - recall_2: 0.7150 - val_loss: 0.9158 - val_recall_2: 0.6262\n",
            "Epoch 153/200\n",
            "111/111 [==============================] - 1s 7ms/stepos\n",
            "883/883 [==============================] - 25s 28ms/step - loss: 0.6441 - recall_2: 0.7135 - val_loss: 0.9506 - val_recall_2: 0.6471\n",
            "Epoch 154/200\n",
            "111/111 [==============================] - 1s 7ms/stepos\n",
            "883/883 [==============================] - 25s 28ms/step - loss: 0.6498 - recall_2: 0.7107 - val_loss: 0.9101 - val_recall_2: 0.6372\n",
            "Epoch 155/200\n",
            "111/111 [==============================] - 1s 7ms/step\n",
            "883/883 [==============================] - 25s 28ms/step - loss: 0.6412 - recall_2: 0.7137 - val_loss: 0.9317 - val_recall_2: 0.6457\n",
            "Epoch 156/200\n",
            "111/111 [==============================] - 1s 7ms/stepos\n",
            "883/883 [==============================] - 25s 28ms/step - loss: 0.6337 - recall_2: 0.7193 - val_loss: 0.9422 - val_recall_2: 0.6477\n",
            "Epoch 157/200\n",
            "111/111 [==============================] - 1s 7ms/stepos\n",
            "883/883 [==============================] - 25s 28ms/step - loss: 0.6381 - recall_2: 0.7168 - val_loss: 0.9630 - val_recall_2: 0.6409\n",
            "Epoch 158/200\n",
            "111/111 [==============================] - 1s 7ms/step\n",
            "883/883 [==============================] - 25s 29ms/step - loss: 0.6419 - recall_2: 0.7146 - val_loss: 0.9045 - val_recall_2: 0.6471\n",
            "Epoch 159/200\n",
            "111/111 [==============================] - 1s 7ms/stepos\n",
            "883/883 [==============================] - 25s 28ms/step - loss: 0.6269 - recall_2: 0.7240 - val_loss: 0.9342 - val_recall_2: 0.6446\n",
            "Epoch 160/200\n",
            "111/111 [==============================] - 1s 7ms/stepos\n",
            "883/883 [==============================] - 25s 28ms/step - loss: 0.6310 - recall_2: 0.7220 - val_loss: 0.9154 - val_recall_2: 0.6556\n",
            "Epoch 161/200\n",
            "111/111 [==============================] - 1s 7ms/stepos\n",
            "883/883 [==============================] - 25s 28ms/step - loss: 0.6381 - recall_2: 0.7168 - val_loss: 0.8993 - val_recall_2: 0.6449\n",
            "Epoch 162/200\n",
            "111/111 [==============================] - 1s 7ms/stepos\n",
            "883/883 [==============================] - 25s 28ms/step - loss: 0.6320 - recall_2: 0.7182 - val_loss: 0.8919 - val_recall_2: 0.6669\n",
            "Epoch 163/200\n",
            "111/111 [==============================] - 1s 7ms/stepos\n",
            "883/883 [==============================] - 25s 28ms/step - loss: 0.6273 - recall_2: 0.7239 - val_loss: 0.9258 - val_recall_2: 0.6483\n",
            "Epoch 164/200\n",
            "111/111 [==============================] - 1s 7ms/step\n",
            "883/883 [==============================] - 25s 28ms/step - loss: 0.6288 - recall_2: 0.7238 - val_loss: 0.9226 - val_recall_2: 0.6528\n",
            "Epoch 165/200\n",
            "111/111 [==============================] - 1s 7ms/step\n",
            "883/883 [==============================] - 26s 29ms/step - loss: 0.6194 - recall_2: 0.7256 - val_loss: 0.9245 - val_recall_2: 0.6460\n",
            "Epoch 166/200\n",
            "111/111 [==============================] - 1s 7ms/stepos\n",
            "883/883 [==============================] - 26s 29ms/step - loss: 0.6197 - recall_2: 0.7265 - val_loss: 0.9494 - val_recall_2: 0.6517\n",
            "Epoch 167/200\n",
            "111/111 [==============================] - 1s 7ms/stepos\n",
            "883/883 [==============================] - 26s 29ms/step - loss: 0.6243 - recall_2: 0.7269 - val_loss: 0.8998 - val_recall_2: 0.6511\n",
            "Epoch 168/200\n",
            "111/111 [==============================] - 1s 7ms/stepos\n",
            "883/883 [==============================] - 26s 30ms/step - loss: 0.6298 - recall_2: 0.7242 - val_loss: 0.8956 - val_recall_2: 0.6664\n",
            "Epoch 169/200\n",
            "111/111 [==============================] - 1s 7ms/stepos\n",
            "883/883 [==============================] - 26s 30ms/step - loss: 0.6271 - recall_2: 0.7226 - val_loss: 0.9487 - val_recall_2: 0.6562\n",
            "Epoch 170/200\n",
            "111/111 [==============================] - 1s 7ms/stepos\n",
            "883/883 [==============================] - 26s 29ms/step - loss: 0.6230 - recall_2: 0.7268 - val_loss: 0.9346 - val_recall_2: 0.6602\n",
            "Epoch 171/200\n",
            "111/111 [==============================] - 1s 7ms/step\n",
            "883/883 [==============================] - 26s 30ms/step - loss: 0.6201 - recall_2: 0.7261 - val_loss: 0.8967 - val_recall_2: 0.6511\n",
            "Epoch 172/200\n",
            "111/111 [==============================] - 1s 7ms/stepos\n",
            "883/883 [==============================] - 26s 30ms/step - loss: 0.6097 - recall_2: 0.7326 - val_loss: 0.9435 - val_recall_2: 0.6423\n",
            "Epoch 173/200\n",
            "111/111 [==============================] - 1s 7ms/step\n",
            "883/883 [==============================] - 27s 30ms/step - loss: 0.6196 - recall_2: 0.7271 - val_loss: 0.9566 - val_recall_2: 0.6398\n",
            "Epoch 174/200\n",
            "111/111 [==============================] - 1s 7ms/stepos\n",
            "883/883 [==============================] - 26s 29ms/step - loss: 0.6115 - recall_2: 0.7314 - val_loss: 0.9638 - val_recall_2: 0.6616\n",
            "Epoch 175/200\n",
            "111/111 [==============================] - 1s 7ms/stepos\n",
            "883/883 [==============================] - 24s 28ms/step - loss: 0.6130 - recall_2: 0.7311 - val_loss: 0.9908 - val_recall_2: 0.6483\n",
            "Epoch 176/200\n",
            "111/111 [==============================] - 1s 7ms/step\n",
            "883/883 [==============================] - 25s 28ms/step - loss: 0.6070 - recall_2: 0.7348 - val_loss: 0.9092 - val_recall_2: 0.6404\n",
            "Epoch 177/200\n",
            "111/111 [==============================] - 1s 7ms/stepos\n",
            "883/883 [==============================] - 25s 28ms/step - loss: 0.6156 - recall_2: 0.7293 - val_loss: 0.9134 - val_recall_2: 0.6520\n",
            "Epoch 178/200\n",
            "111/111 [==============================] - 1s 7ms/stepos\n",
            "883/883 [==============================] - 26s 29ms/step - loss: 0.6091 - recall_2: 0.7334 - val_loss: 0.9531 - val_recall_2: 0.6650\n",
            "Epoch 179/200\n",
            "111/111 [==============================] - 1s 7ms/stepos\n",
            "883/883 [==============================] - 26s 29ms/step - loss: 0.6027 - recall_2: 0.7375 - val_loss: 0.9596 - val_recall_2: 0.6429\n",
            "Epoch 180/200\n",
            "111/111 [==============================] - 1s 7ms/stepos\n",
            "883/883 [==============================] - 26s 29ms/step - loss: 0.6004 - recall_2: 0.7380 - val_loss: 0.9009 - val_recall_2: 0.6477\n",
            "Epoch 181/200\n",
            "111/111 [==============================] - 1s 7ms/step\n",
            "883/883 [==============================] - 25s 29ms/step - loss: 0.6061 - recall_2: 0.7371 - val_loss: 0.9400 - val_recall_2: 0.6503\n",
            "Epoch 182/200\n",
            "111/111 [==============================] - 1s 7ms/stepos\n",
            "883/883 [==============================] - 25s 29ms/step - loss: 0.6048 - recall_2: 0.7343 - val_loss: 0.9233 - val_recall_2: 0.6568\n",
            "Epoch 183/200\n",
            "111/111 [==============================] - 1s 7ms/stepos\n",
            "883/883 [==============================] - 24s 28ms/step - loss: 0.6002 - recall_2: 0.7381 - val_loss: 0.9237 - val_recall_2: 0.6568\n",
            "Epoch 184/200\n",
            "111/111 [==============================] - 1s 7ms/step\n",
            "883/883 [==============================] - 25s 28ms/step - loss: 0.5998 - recall_2: 0.7375 - val_loss: 0.9372 - val_recall_2: 0.6573\n",
            "Epoch 185/200\n",
            "111/111 [==============================] - 1s 7ms/step\n",
            "883/883 [==============================] - 26s 29ms/step - loss: 0.6049 - recall_2: 0.7384 - val_loss: 0.9529 - val_recall_2: 0.6576\n",
            "Epoch 186/200\n",
            "111/111 [==============================] - 1s 7ms/stepos\n",
            "883/883 [==============================] - 26s 29ms/step - loss: 0.5974 - recall_2: 0.7385 - val_loss: 0.9213 - val_recall_2: 0.6477\n",
            "Epoch 187/200\n",
            "111/111 [==============================] - 1s 7ms/stepos\n",
            "883/883 [==============================] - 25s 28ms/step - loss: 0.5955 - recall_2: 0.7389 - val_loss: 0.9376 - val_recall_2: 0.6607\n",
            "Epoch 188/200\n",
            "111/111 [==============================] - 1s 7ms/stepos\n",
            "883/883 [==============================] - 25s 28ms/step - loss: 0.5873 - recall_2: 0.7441 - val_loss: 0.9240 - val_recall_2: 0.6471\n",
            "Epoch 189/200\n",
            "111/111 [==============================] - 1s 7ms/stepos\n",
            "883/883 [==============================] - 25s 28ms/step - loss: 0.5996 - recall_2: 0.7376 - val_loss: 0.9669 - val_recall_2: 0.6336\n",
            "Epoch 190/200\n",
            "111/111 [==============================] - 1s 7ms/step\n",
            "883/883 [==============================] - 25s 28ms/step - loss: 0.5865 - recall_2: 0.7456 - val_loss: 0.9005 - val_recall_2: 0.6604\n",
            "Epoch 191/200\n",
            "111/111 [==============================] - 1s 7ms/stepos\n",
            "883/883 [==============================] - 25s 28ms/step - loss: 0.6031 - recall_2: 0.7375 - val_loss: 0.9425 - val_recall_2: 0.6576\n",
            "Epoch 192/200\n",
            "111/111 [==============================] - 1s 7ms/stepos\n",
            "883/883 [==============================] - 26s 29ms/step - loss: 0.5864 - recall_2: 0.7466 - val_loss: 0.9063 - val_recall_2: 0.6573\n",
            "Epoch 193/200\n",
            "111/111 [==============================] - 1s 7ms/stepos\n",
            "883/883 [==============================] - 25s 29ms/step - loss: 0.5946 - recall_2: 0.7418 - val_loss: 0.9058 - val_recall_2: 0.6570\n",
            "Epoch 194/200\n",
            "111/111 [==============================] - 1s 7ms/stepos\n",
            "883/883 [==============================] - 25s 29ms/step - loss: 0.5844 - recall_2: 0.7457 - val_loss: 0.9504 - val_recall_2: 0.6488\n",
            "Epoch 195/200\n",
            "111/111 [==============================] - 1s 7ms/stepos\n",
            "883/883 [==============================] - 26s 29ms/step - loss: 0.5839 - recall_2: 0.7459 - val_loss: 0.9355 - val_recall_2: 0.6590\n",
            "Epoch 196/200\n",
            "111/111 [==============================] - 1s 7ms/stepos\n",
            "883/883 [==============================] - 26s 29ms/step - loss: 0.5926 - recall_2: 0.7417 - val_loss: 0.9251 - val_recall_2: 0.6602\n",
            "Epoch 197/200\n",
            "111/111 [==============================] - 1s 7ms/stepos\n",
            "883/883 [==============================] - 26s 29ms/step - loss: 0.5901 - recall_2: 0.7440 - val_loss: 0.9445 - val_recall_2: 0.6754\n",
            "Epoch 198/200\n",
            "111/111 [==============================] - 1s 7ms/stepos\n",
            "883/883 [==============================] - 26s 29ms/step - loss: 0.5848 - recall_2: 0.7499 - val_loss: 0.9408 - val_recall_2: 0.6565\n",
            "Epoch 199/200\n",
            "111/111 [==============================] - 1s 7ms/stepos\n",
            "883/883 [==============================] - 26s 29ms/step - loss: 0.5788 - recall_2: 0.7496 - val_loss: 0.9430 - val_recall_2: 0.6548\n",
            "Epoch 200/200\n",
            "111/111 [==============================] - 1s 7ms/step\n",
            "883/883 [==============================] - 26s 30ms/step - loss: 0.5826 - recall_2: 0.7473 - val_loss: 0.9300 - val_recall_2: 0.6633\n"
          ]
        },
        {
          "data": {
            "text/plain": [
              "<keras.callbacks.History at 0x1ad899bfe80>"
            ]
          },
          "execution_count": 70,
          "metadata": {},
          "output_type": "execute_result"
        }
      ],
      "source": [
        "# Start TensorBoard.\n",
        "%tensorboard --logdir logs/image\n",
        "\n",
        "class_now =  {0:1.5, 1:1.5, 2:1 ,3:4, 4:1, 5:1}\n",
        "\n",
        "model.fit(img_iter,\n",
        "          epochs=200,\n",
        "          steps_per_epoch=len(x_train)/batch_size,\n",
        "          # steps_per_epoch=len(x_train)/batch_size, # Run same number of steps we would if we were not using a generator.\n",
        "          validation_data= valid_iter,\n",
        "          #class_weight = class_weights,\n",
        "          callbacks = [tensorboard_callback, cm_callback])\n",
        "\n",
        "# within 2% of epoch just stop \n"
      ]
    },
    {
      "cell_type": "code",
      "execution_count": 71,
      "metadata": {},
      "outputs": [
        {
          "name": "stderr",
          "output_type": "stream",
          "text": [
            "WARNING:absl:Found untraced functions such as _jit_compiled_convolution_op, _jit_compiled_convolution_op, _jit_compiled_convolution_op, _jit_compiled_convolution_op, _jit_compiled_convolution_op while saving (showing 5 of 12). These functions will not be directly callable after loading.\n"
          ]
        },
        {
          "name": "stdout",
          "output_type": "stream",
          "text": [
            "INFO:tensorflow:Assets written to: facial_model\\assets\n"
          ]
        },
        {
          "name": "stderr",
          "output_type": "stream",
          "text": [
            "INFO:tensorflow:Assets written to: facial_model\\assets\n"
          ]
        }
      ],
      "source": [
        "model.save('facial_model')"
      ]
    },
    {
      "cell_type": "code",
      "execution_count": 65,
      "metadata": {},
      "outputs": [],
      "source": [
        "#logdir_test = \"logs/image/\" + datetime.datetime.now().strftime(\"%Y%m%d-%H%M%S\")\n",
        "#tensorboard_callback = keras.callbacks.TensorBoard(log_dir=logdir_test)"
      ]
    },
    {
      "cell_type": "code",
      "execution_count": 72,
      "metadata": {},
      "outputs": [
        {
          "name": "stdout",
          "output_type": "stream",
          "text": [
            "111/111 [==============================] - 1s 12ms/step - loss: 0.9745 - recall_2: 0.6521\n",
            "Test accuracy: 0.6521369814872742\n"
          ]
        }
      ],
      "source": [
        "#evaluate the model\n",
        "test_loss, test_recall = model.evaluate(test_iter)\n",
        "print('Test accuracy:', test_recall)"
      ]
    },
    {
      "attachments": {},
      "cell_type": "markdown",
      "metadata": {},
      "source": [
        "So the model has about a 65% recall on test data, which is the best I can do currently, splitting up into models that handle the positive and negative emotions separately, having cleaner data, and generating more data so the classes are balanced may improve recall, but data augementation was already used."
      ]
    }
  ],
  "metadata": {
    "colab": {
      "provenance": []
    },
    "kernelspec": {
      "display_name": "capstone",
      "language": "python",
      "name": "python3"
    },
    "language_info": {
      "codemirror_mode": {
        "name": "ipython",
        "version": 3
      },
      "file_extension": ".py",
      "mimetype": "text/x-python",
      "name": "python",
      "nbconvert_exporter": "python",
      "pygments_lexer": "ipython3",
      "version": "3.9.0"
    },
    "vscode": {
      "interpreter": {
        "hash": "2252a2cd0eb11e118345e3d7d2ca8b4d03aa1b21884bd3967224a977267aafb2"
      }
    }
  },
  "nbformat": 4,
  "nbformat_minor": 0
}
